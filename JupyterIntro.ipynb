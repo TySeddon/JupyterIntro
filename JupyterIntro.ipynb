{
 "cells": [
  {
   "cell_type": "markdown",
   "metadata": {
    "slideshow": {
     "slide_type": "slide"
    }
   },
   "source": [
    "<h1 style=\"font-size:50px;\">Intro to Jupyter Notebooks</h1>\n",
    "\n",
    "<img style=\"margin-left:0px\" src=\"http://www.dataquest.io/wp-content/uploads/2019/01/1-LPnY8nOLg4S6_TG0DEXwsg-1.png\" width=700/>\n",
    "\n",
    "<div style=\"margin-top:50px;margin-left:450px;\">\n",
    "    <h2 style=\"font-size:25px;\">Ty Seddon - AI solutions architect</h2>\n",
    "    <img style=\"margin-left:40px\" src=\"http://www.cognivista.com/Media/Default/Images/CogniVista-Medium.png\" width=80>\n",
    "</div>\n",
    "\n",
    "This notebook is on Github - https://github.com/TySeddon/JupyterIntro"
   ]
  },
  {
   "cell_type": "markdown",
   "metadata": {
    "slideshow": {
     "slide_type": "slide"
    }
   },
   "source": [
    "# Objectives\n",
    "* Basics of Jupyter Notebooks\n",
    "* Best Practices\n",
    "  * 25+ years experience of doing real-time data analysis with clients looking over my shoulder"
   ]
  },
  {
   "cell_type": "markdown",
   "metadata": {
    "slideshow": {
     "slide_type": "slide"
    }
   },
   "source": [
    "# Intro to Jupyter Notebooks\n",
    "* Web-based Interactive Environment (as opposed to an IDE)\n",
    "* Weaves code, output, and text together into a single document\n",
    "* Supports over 40 programming languages (Python, R, F#, Julia, Scala, etc)"
   ]
  },
  {
   "cell_type": "code",
   "execution_count": 1,
   "metadata": {
    "slideshow": {
     "slide_type": "-"
    }
   },
   "outputs": [
    {
     "name": "stdout",
     "output_type": "stream",
     "text": [
      "Hello World\n"
     ]
    }
   ],
   "source": [
    "# A notebook is a collection of \"cells\"\n",
    "# This is a CODE cell.  A cell has an Input (In) and Output (Out) sections \n",
    "# Input includes your code (Python in this case)\n",
    "\n",
    "# Some Code\n",
    "print(\"Hello World\")\n",
    "\n",
    "# Followed by its output"
   ]
  },
  {
   "cell_type": "code",
   "execution_count": 2,
   "metadata": {
    "slideshow": {
     "slide_type": "-"
    }
   },
   "outputs": [
    {
     "name": "stdout",
     "output_type": "stream",
     "text": [
      "0\n",
      "1\n",
      "2\n",
      "3\n",
      "4\n"
     ]
    }
   ],
   "source": [
    "# Anything you can do in Python, you can do in Jupyter Notebooks\n",
    "for i in range(5): \n",
    "    print(i)"
   ]
  },
  {
   "cell_type": "markdown",
   "metadata": {
    "slideshow": {
     "slide_type": "slide"
    }
   },
   "source": [
    "# Interact with the OS"
   ]
  },
  {
   "cell_type": "code",
   "execution_count": 3,
   "metadata": {
    "slideshow": {
     "slide_type": "-"
    }
   },
   "outputs": [],
   "source": [
    "import os"
   ]
  },
  {
   "cell_type": "code",
   "execution_count": 4,
   "metadata": {},
   "outputs": [
    {
     "data": {
      "text/plain": [
       "'C:\\\\Users\\\\tysed\\\\Source\\\\Repos\\\\JupyterIntro'"
      ]
     },
     "execution_count": 4,
     "metadata": {},
     "output_type": "execute_result"
    }
   ],
   "source": [
    "os.getcwd()"
   ]
  },
  {
   "cell_type": "code",
   "execution_count": 5,
   "metadata": {},
   "outputs": [
    {
     "data": {
      "text/plain": [
       "['.git',\n",
       " '.gitignore',\n",
       " '.ipynb_checkpoints',\n",
       " 'JupyterIntro.ipynb',\n",
       " 'README.md',\n",
       " 'sales_data_sample.csv',\n",
       " 'Untitled.ipynb']"
      ]
     },
     "execution_count": 5,
     "metadata": {},
     "output_type": "execute_result"
    }
   ],
   "source": [
    "os.listdir()"
   ]
  },
  {
   "cell_type": "markdown",
   "metadata": {
    "slideshow": {
     "slide_type": "slide"
    }
   },
   "source": [
    "# Define and Call Functions"
   ]
  },
  {
   "cell_type": "code",
   "execution_count": 6,
   "metadata": {
    "slideshow": {
     "slide_type": "-"
    }
   },
   "outputs": [],
   "source": [
    "def printhello(o):\n",
    "    print(\"hello\",o)"
   ]
  },
  {
   "cell_type": "code",
   "execution_count": 7,
   "metadata": {},
   "outputs": [
    {
     "name": "stdout",
     "output_type": "stream",
     "text": [
      "hello asheville\n",
      "hello y'all\n"
     ]
    }
   ],
   "source": [
    "printhello(\"asheville\")\n",
    "printhello(\"y'all\")\n",
    "# you can have multiple commands per cell"
   ]
  },
  {
   "cell_type": "markdown",
   "metadata": {
    "slideshow": {
     "slide_type": "slide"
    }
   },
   "source": [
    "# Visualizations"
   ]
  },
  {
   "cell_type": "code",
   "execution_count": 8,
   "metadata": {
    "slideshow": {
     "slide_type": "-"
    }
   },
   "outputs": [],
   "source": [
    "import numpy as np\n",
    "import matplotlib.pyplot as plt\n",
    "%matplotlib inline"
   ]
  },
  {
   "cell_type": "code",
   "execution_count": 9,
   "metadata": {},
   "outputs": [
    {
     "data": {
      "image/png": "[encoded data removed]",
      "text/plain": [
       "<Figure size 432x288 with 1 Axes>"
      ]
     },
     "metadata": {
      "needs_background": "light"
     },
     "output_type": "display_data"
    }
   ],
   "source": [
    "# generate random normal distribution data and plot on histogram\n",
    "plt.hist(np.random.normal(size=1000),bins=30);"
   ]
  },
  {
   "cell_type": "markdown",
   "metadata": {
    "slideshow": {
     "slide_type": "slide"
    }
   },
   "source": [
    "# Shell Commands\n",
    "* Starts with !\n",
    "* In general, I don't use them unless there's no other choice\n",
    "* Use Python libraries instead"
   ]
  },
  {
   "cell_type": "code",
   "execution_count": 10,
   "metadata": {},
   "outputs": [
    {
     "name": "stdout",
     "output_type": "stream",
     "text": [
      ".gitignore\n",
      ".ipynb_checkpoints\n",
      "JupyterIntro.ipynb\n",
      "README.md\n",
      "sales_data_sample.csv\n",
      "Untitled.ipynb\n"
     ]
    }
   ],
   "source": [
    "!dir /b"
   ]
  },
  {
   "cell_type": "markdown",
   "metadata": {
    "slideshow": {
     "slide_type": "slide"
    }
   },
   "source": [
    "# Magic Commands\n",
    "* Prefixed with %\n",
    "* In general, I don't use them unless there's no other choice\n",
    "* These are one's I use most often\n",
    "  * %lsmagic - list available magic commands\n",
    "  * %load or %run - executes code in Python files \n",
    "  * %matplotlib inline - shows plots in the notebook\n"
   ]
  },
  {
   "cell_type": "code",
   "execution_count": 11,
   "metadata": {
    "scrolled": false
   },
   "outputs": [
    {
     "data": {
      "application/json": {
       "cell": {
        "!": "OSMagics",
        "HTML": "Other",
        "SVG": "Other",
        "bash": "Other",
        "capture": "ExecutionMagics",
        "cmd": "Other",
        "debug": "ExecutionMagics",
        "file": "Other",
        "html": "DisplayMagics",
        "javascript": "DisplayMagics",
        "js": "DisplayMagics",
        "latex": "DisplayMagics",
        "markdown": "DisplayMagics",
        "perl": "Other",
        "prun": "ExecutionMagics",
        "pypy": "Other",
        "python": "Other",
        "python2": "Other",
        "python3": "Other",
        "ruby": "Other",
        "script": "ScriptMagics",
        "sh": "Other",
        "svg": "DisplayMagics",
        "sx": "OSMagics",
        "system": "OSMagics",
        "time": "ExecutionMagics",
        "timeit": "ExecutionMagics",
        "writefile": "OSMagics"
       },
       "line": {
        "alias": "OSMagics",
        "alias_magic": "BasicMagics",
        "autoawait": "AsyncMagics",
        "autocall": "AutoMagics",
        "automagic": "AutoMagics",
        "autosave": "KernelMagics",
        "bookmark": "OSMagics",
        "cd": "OSMagics",
        "clear": "KernelMagics",
        "cls": "KernelMagics",
        "colors": "BasicMagics",
        "conda": "PackagingMagics",
        "config": "ConfigMagics",
        "connect_info": "KernelMagics",
        "copy": "Other",
        "ddir": "Other",
        "debug": "ExecutionMagics",
        "dhist": "OSMagics",
        "dirs": "OSMagics",
        "doctest_mode": "BasicMagics",
        "echo": "Other",
        "ed": "Other",
        "edit": "KernelMagics",
        "env": "OSMagics",
        "gui": "BasicMagics",
        "hist": "Other",
        "history": "HistoryMagics",
        "killbgscripts": "ScriptMagics",
        "ldir": "Other",
        "less": "KernelMagics",
        "load": "CodeMagics",
        "load_ext": "ExtensionMagics",
        "loadpy": "CodeMagics",
        "logoff": "LoggingMagics",
        "logon": "LoggingMagics",
        "logstart": "LoggingMagics",
        "logstate": "LoggingMagics",
        "logstop": "LoggingMagics",
        "ls": "Other",
        "lsmagic": "BasicMagics",
        "macro": "ExecutionMagics",
        "magic": "BasicMagics",
        "matplotlib": "PylabMagics",
        "mkdir": "Other",
        "more": "KernelMagics",
        "notebook": "BasicMagics",
        "page": "BasicMagics",
        "pastebin": "CodeMagics",
        "pdb": "ExecutionMagics",
        "pdef": "NamespaceMagics",
        "pdoc": "NamespaceMagics",
        "pfile": "NamespaceMagics",
        "pinfo": "NamespaceMagics",
        "pinfo2": "NamespaceMagics",
        "pip": "PackagingMagics",
        "popd": "OSMagics",
        "pprint": "BasicMagics",
        "precision": "BasicMagics",
        "prun": "ExecutionMagics",
        "psearch": "NamespaceMagics",
        "psource": "NamespaceMagics",
        "pushd": "OSMagics",
        "pwd": "OSMagics",
        "pycat": "OSMagics",
        "pylab": "PylabMagics",
        "qtconsole": "KernelMagics",
        "quickref": "BasicMagics",
        "recall": "HistoryMagics",
        "rehashx": "OSMagics",
        "reload_ext": "ExtensionMagics",
        "ren": "Other",
        "rep": "Other",
        "rerun": "HistoryMagics",
        "reset": "NamespaceMagics",
        "reset_selective": "NamespaceMagics",
        "rmdir": "Other",
        "run": "ExecutionMagics",
        "save": "CodeMagics",
        "sc": "OSMagics",
        "set_env": "OSMagics",
        "store": "StoreMagics",
        "sx": "OSMagics",
        "system": "OSMagics",
        "tb": "ExecutionMagics",
        "time": "ExecutionMagics",
        "timeit": "ExecutionMagics",
        "unalias": "OSMagics",
        "unload_ext": "ExtensionMagics",
        "who": "NamespaceMagics",
        "who_ls": "NamespaceMagics",
        "whos": "NamespaceMagics",
        "xdel": "NamespaceMagics",
        "xmode": "BasicMagics"
       }
      },
      "text/plain": [
       "Available line magics:\n",
       "%alias  %alias_magic  %autoawait  %autocall  %automagic  %autosave  %bookmark  %cd  %clear  %cls  %colors  %conda  %config  %connect_info  %copy  %ddir  %debug  %dhist  %dirs  %doctest_mode  %echo  %ed  %edit  %env  %gui  %hist  %history  %killbgscripts  %ldir  %less  %load  %load_ext  %loadpy  %logoff  %logon  %logstart  %logstate  %logstop  %ls  %lsmagic  %macro  %magic  %matplotlib  %mkdir  %more  %notebook  %page  %pastebin  %pdb  %pdef  %pdoc  %pfile  %pinfo  %pinfo2  %pip  %popd  %pprint  %precision  %prun  %psearch  %psource  %pushd  %pwd  %pycat  %pylab  %qtconsole  %quickref  %recall  %rehashx  %reload_ext  %ren  %rep  %rerun  %reset  %reset_selective  %rmdir  %run  %save  %sc  %set_env  %store  %sx  %system  %tb  %time  %timeit  %unalias  %unload_ext  %who  %who_ls  %whos  %xdel  %xmode\n",
       "\n",
       "Available cell magics:\n",
       "%%!  %%HTML  %%SVG  %%bash  %%capture  %%cmd  %%debug  %%file  %%html  %%javascript  %%js  %%latex  %%markdown  %%perl  %%prun  %%pypy  %%python  %%python2  %%python3  %%ruby  %%script  %%sh  %%svg  %%sx  %%system  %%time  %%timeit  %%writefile\n",
       "\n",
       "Automagic is ON, % prefix IS NOT needed for line magics."
      ]
     },
     "execution_count": 11,
     "metadata": {},
     "output_type": "execute_result"
    }
   ],
   "source": [
    "%lsmagic"
   ]
  },
  {
   "cell_type": "markdown",
   "metadata": {
    "slideshow": {
     "slide_type": "slide"
    }
   },
   "source": [
    "# Installation\n",
    "* jupyter.org\n",
    "* anaconda.com <strong>(Recommended)</strong>"
   ]
  },
  {
   "cell_type": "markdown",
   "metadata": {
    "slideshow": {
     "slide_type": "slide"
    }
   },
   "source": [
    "# Running on Server\n",
    "* Use server resources (CPU, disk, database, etc)\n",
    "  * Laptop, Server, Cloud, or Supercomputer\n",
    "* Anybody can run shell commands on your server <strong>(Security Risk)</strong>\n",
    "* Not multi-user by default\n",
    "  * Multiple users can run their own notebooks\n",
    "  * No isolation between users\n",
    "* See JupyterHub for collaborative notebooks"
   ]
  },
  {
   "cell_type": "markdown",
   "metadata": {
    "slideshow": {
     "slide_type": "slide"
    }
   },
   "source": [
    "# Use Cases\n",
    "* Highly interactive iterations\n",
    "* Isolated problems\n",
    "* Data analysis\n",
    "* Teaching/Learning\n",
    "* Experimentation\n",
    "* Sharing Reports\n",
    "* Dashboards (Widgets)"
   ]
  },
  {
   "cell_type": "markdown",
   "metadata": {
    "slideshow": {
     "slide_type": "slide"
    }
   },
   "source": [
    "# Benefits\n",
    "* Transparency\n",
    "    * How'd you get that answer?\n",
    "* Reproducibility\n",
    "    * I want to try it myself\n",
    "* Collaborative\n",
    "    * Let's figure this out together"
   ]
  },
  {
   "cell_type": "markdown",
   "metadata": {
    "slideshow": {
     "slide_type": "slide"
    }
   },
   "source": [
    "# Consumers\n",
    "Many times, notebooks are just for you to quickly experiment with some coding ideas.\n",
    "\n",
    "Other times, you are creating output for a specific reason for a specific audience\n",
    "* Your boss\n",
    "* Subject Matter Expert (SME)\n",
    "* Peer Review (academic, QA team)\n",
    "* Students/Teachers"
   ]
  },
  {
   "cell_type": "markdown",
   "metadata": {
    "slideshow": {
     "slide_type": "slide"
    }
   },
   "source": [
    "# Best Practices\n",
    "When starting a new notebook:\n",
    "* Keep things simple so you can iterate quickly\n",
    "* Don't over-engineer\n",
    "\n",
    "If you are producing notebook for others to consume, think about:\n",
    "* Readability\n",
    "    * People actually see this stuff\n",
    "* Documentation\n",
    "    * It is a document, so document!\n",
    "* Code Organization\n",
    "    * Interactive nature leads to disorganization very quickly\n",
    "    * Clean up your code frequently"
   ]
  },
  {
   "cell_type": "markdown",
   "metadata": {
    "slideshow": {
     "slide_type": "slide"
    }
   },
   "source": [
    "# Demo: Analyzing sales data\n",
    "1. Read data\n",
    "1. Understand contents and structure\n",
    "1. Iteratively ask questions of data\n",
    "1. Share findings <strong>AND METHODOLOGY</strong>\n"
   ]
  },
  {
   "cell_type": "markdown",
   "metadata": {
    "slideshow": {
     "slide_type": "slide"
    }
   },
   "source": [
    "# Secondary Objectives\n",
    "* Demonstrate how to use Pandas\n",
    "* Make fun of Pandas\n",
    "* Promote a better way"
   ]
  },
  {
   "cell_type": "markdown",
   "metadata": {
    "slideshow": {
     "slide_type": "slide"
    }
   },
   "source": [
    "# Read Files"
   ]
  },
  {
   "cell_type": "code",
   "execution_count": 12,
   "metadata": {},
   "outputs": [],
   "source": [
    "import pandas as pd\n",
    "from pathlib import Path"
   ]
  },
  {
   "cell_type": "code",
   "execution_count": 13,
   "metadata": {},
   "outputs": [],
   "source": [
    "# load data from disk\n",
    "# data source: https://www.kaggle.com/kyanyoga/sample-sales-data\n",
    "path = Path(\"sales_data_sample.csv\")\n",
    "sales = pd.read_csv(path, sep=\",\",encoding = 'unicode_escape')"
   ]
  },
  {
   "cell_type": "markdown",
   "metadata": {
    "slideshow": {
     "slide_type": "slide"
    }
   },
   "source": [
    "# Explore Data"
   ]
  },
  {
   "cell_type": "code",
   "execution_count": 14,
   "metadata": {},
   "outputs": [
    {
     "data": {
      "text/html": [
       "<div>\n",
       "<style scoped>\n",
       "    .dataframe tbody tr th:only-of-type {\n",
       "        vertical-align: middle;\n",
       "    }\n",
       "\n",
       "    .dataframe tbody tr th {\n",
       "        vertical-align: top;\n",
       "    }\n",
       "\n",
       "    .dataframe thead th {\n",
       "        text-align: right;\n",
       "    }\n",
       "</style>\n",
       "<table border=\"1\" class=\"dataframe\">\n",
       "  <thead>\n",
       "    <tr style=\"text-align: right;\">\n",
       "      <th></th>\n",
       "      <th>ORDERNUMBER</th>\n",
       "      <th>QUANTITYORDERED</th>\n",
       "      <th>PRICEEACH</th>\n",
       "      <th>ORDERLINENUMBER</th>\n",
       "      <th>SALES</th>\n",
       "      <th>ORDERDATE</th>\n",
       "      <th>STATUS</th>\n",
       "      <th>QTR_ID</th>\n",
       "      <th>MONTH_ID</th>\n",
       "      <th>YEAR_ID</th>\n",
       "      <th>...</th>\n",
       "      <th>ADDRESSLINE1</th>\n",
       "      <th>ADDRESSLINE2</th>\n",
       "      <th>CITY</th>\n",
       "      <th>STATE</th>\n",
       "      <th>POSTALCODE</th>\n",
       "      <th>COUNTRY</th>\n",
       "      <th>TERRITORY</th>\n",
       "      <th>CONTACTLASTNAME</th>\n",
       "      <th>CONTACTFIRSTNAME</th>\n",
       "      <th>DEALSIZE</th>\n",
       "    </tr>\n",
       "  </thead>\n",
       "  <tbody>\n",
       "    <tr>\n",
       "      <th>2813</th>\n",
       "      <td>10293</td>\n",
       "      <td>32</td>\n",
       "      <td>60.06</td>\n",
       "      <td>1</td>\n",
       "      <td>1921.92</td>\n",
       "      <td>9/9/2004 0:00</td>\n",
       "      <td>Shipped</td>\n",
       "      <td>3</td>\n",
       "      <td>9</td>\n",
       "      <td>2004</td>\n",
       "      <td>...</td>\n",
       "      <td>Via Monte Bianco 34</td>\n",
       "      <td>NaN</td>\n",
       "      <td>Torino</td>\n",
       "      <td>NaN</td>\n",
       "      <td>10100</td>\n",
       "      <td>Italy</td>\n",
       "      <td>EMEA</td>\n",
       "      <td>Accorti</td>\n",
       "      <td>Paolo</td>\n",
       "      <td>Small</td>\n",
       "    </tr>\n",
       "    <tr>\n",
       "      <th>2814</th>\n",
       "      <td>10306</td>\n",
       "      <td>35</td>\n",
       "      <td>59.51</td>\n",
       "      <td>6</td>\n",
       "      <td>2082.85</td>\n",
       "      <td>10/14/2004 0:00</td>\n",
       "      <td>Shipped</td>\n",
       "      <td>4</td>\n",
       "      <td>10</td>\n",
       "      <td>2004</td>\n",
       "      <td>...</td>\n",
       "      <td>Fauntleroy Circus</td>\n",
       "      <td>NaN</td>\n",
       "      <td>Manchester</td>\n",
       "      <td>NaN</td>\n",
       "      <td>EC2 5NT</td>\n",
       "      <td>UK</td>\n",
       "      <td>EMEA</td>\n",
       "      <td>Ashworth</td>\n",
       "      <td>Victoria</td>\n",
       "      <td>Small</td>\n",
       "    </tr>\n",
       "    <tr>\n",
       "      <th>2815</th>\n",
       "      <td>10315</td>\n",
       "      <td>40</td>\n",
       "      <td>55.69</td>\n",
       "      <td>5</td>\n",
       "      <td>2227.60</td>\n",
       "      <td>10/29/2004 0:00</td>\n",
       "      <td>Shipped</td>\n",
       "      <td>4</td>\n",
       "      <td>10</td>\n",
       "      <td>2004</td>\n",
       "      <td>...</td>\n",
       "      <td>67, rue des Cinquante Otages</td>\n",
       "      <td>NaN</td>\n",
       "      <td>Nantes</td>\n",
       "      <td>NaN</td>\n",
       "      <td>44000</td>\n",
       "      <td>France</td>\n",
       "      <td>EMEA</td>\n",
       "      <td>Labrune</td>\n",
       "      <td>Janine</td>\n",
       "      <td>Small</td>\n",
       "    </tr>\n",
       "    <tr>\n",
       "      <th>2816</th>\n",
       "      <td>10327</td>\n",
       "      <td>37</td>\n",
       "      <td>86.74</td>\n",
       "      <td>4</td>\n",
       "      <td>3209.38</td>\n",
       "      <td>11/10/2004 0:00</td>\n",
       "      <td>Resolved</td>\n",
       "      <td>4</td>\n",
       "      <td>11</td>\n",
       "      <td>2004</td>\n",
       "      <td>...</td>\n",
       "      <td>Vinb'ltet 34</td>\n",
       "      <td>NaN</td>\n",
       "      <td>Kobenhavn</td>\n",
       "      <td>NaN</td>\n",
       "      <td>1734</td>\n",
       "      <td>Denmark</td>\n",
       "      <td>EMEA</td>\n",
       "      <td>Petersen</td>\n",
       "      <td>Jytte</td>\n",
       "      <td>Medium</td>\n",
       "    </tr>\n",
       "    <tr>\n",
       "      <th>2817</th>\n",
       "      <td>10337</td>\n",
       "      <td>42</td>\n",
       "      <td>97.16</td>\n",
       "      <td>5</td>\n",
       "      <td>4080.72</td>\n",
       "      <td>11/21/2004 0:00</td>\n",
       "      <td>Shipped</td>\n",
       "      <td>4</td>\n",
       "      <td>11</td>\n",
       "      <td>2004</td>\n",
       "      <td>...</td>\n",
       "      <td>5905 Pompton St.</td>\n",
       "      <td>Suite 750</td>\n",
       "      <td>NYC</td>\n",
       "      <td>NY</td>\n",
       "      <td>10022</td>\n",
       "      <td>USA</td>\n",
       "      <td>NaN</td>\n",
       "      <td>Hernandez</td>\n",
       "      <td>Maria</td>\n",
       "      <td>Medium</td>\n",
       "    </tr>\n",
       "    <tr>\n",
       "      <th>2818</th>\n",
       "      <td>10350</td>\n",
       "      <td>20</td>\n",
       "      <td>100.00</td>\n",
       "      <td>15</td>\n",
       "      <td>2244.40</td>\n",
       "      <td>12/2/2004 0:00</td>\n",
       "      <td>Shipped</td>\n",
       "      <td>4</td>\n",
       "      <td>12</td>\n",
       "      <td>2004</td>\n",
       "      <td>...</td>\n",
       "      <td>C/ Moralzarzal, 86</td>\n",
       "      <td>NaN</td>\n",
       "      <td>Madrid</td>\n",
       "      <td>NaN</td>\n",
       "      <td>28034</td>\n",
       "      <td>Spain</td>\n",
       "      <td>EMEA</td>\n",
       "      <td>Freyre</td>\n",
       "      <td>Diego</td>\n",
       "      <td>Small</td>\n",
       "    </tr>\n",
       "    <tr>\n",
       "      <th>2819</th>\n",
       "      <td>10373</td>\n",
       "      <td>29</td>\n",
       "      <td>100.00</td>\n",
       "      <td>1</td>\n",
       "      <td>3978.51</td>\n",
       "      <td>1/31/2005 0:00</td>\n",
       "      <td>Shipped</td>\n",
       "      <td>1</td>\n",
       "      <td>1</td>\n",
       "      <td>2005</td>\n",
       "      <td>...</td>\n",
       "      <td>Torikatu 38</td>\n",
       "      <td>NaN</td>\n",
       "      <td>Oulu</td>\n",
       "      <td>NaN</td>\n",
       "      <td>90110</td>\n",
       "      <td>Finland</td>\n",
       "      <td>EMEA</td>\n",
       "      <td>Koskitalo</td>\n",
       "      <td>Pirkko</td>\n",
       "      <td>Medium</td>\n",
       "    </tr>\n",
       "    <tr>\n",
       "      <th>2820</th>\n",
       "      <td>10386</td>\n",
       "      <td>43</td>\n",
       "      <td>100.00</td>\n",
       "      <td>4</td>\n",
       "      <td>5417.57</td>\n",
       "      <td>3/1/2005 0:00</td>\n",
       "      <td>Resolved</td>\n",
       "      <td>1</td>\n",
       "      <td>3</td>\n",
       "      <td>2005</td>\n",
       "      <td>...</td>\n",
       "      <td>C/ Moralzarzal, 86</td>\n",
       "      <td>NaN</td>\n",
       "      <td>Madrid</td>\n",
       "      <td>NaN</td>\n",
       "      <td>28034</td>\n",
       "      <td>Spain</td>\n",
       "      <td>EMEA</td>\n",
       "      <td>Freyre</td>\n",
       "      <td>Diego</td>\n",
       "      <td>Medium</td>\n",
       "    </tr>\n",
       "    <tr>\n",
       "      <th>2821</th>\n",
       "      <td>10397</td>\n",
       "      <td>34</td>\n",
       "      <td>62.24</td>\n",
       "      <td>1</td>\n",
       "      <td>2116.16</td>\n",
       "      <td>3/28/2005 0:00</td>\n",
       "      <td>Shipped</td>\n",
       "      <td>1</td>\n",
       "      <td>3</td>\n",
       "      <td>2005</td>\n",
       "      <td>...</td>\n",
       "      <td>1 rue Alsace-Lorraine</td>\n",
       "      <td>NaN</td>\n",
       "      <td>Toulouse</td>\n",
       "      <td>NaN</td>\n",
       "      <td>31000</td>\n",
       "      <td>France</td>\n",
       "      <td>EMEA</td>\n",
       "      <td>Roulet</td>\n",
       "      <td>Annette</td>\n",
       "      <td>Small</td>\n",
       "    </tr>\n",
       "    <tr>\n",
       "      <th>2822</th>\n",
       "      <td>10414</td>\n",
       "      <td>47</td>\n",
       "      <td>65.52</td>\n",
       "      <td>9</td>\n",
       "      <td>3079.44</td>\n",
       "      <td>5/6/2005 0:00</td>\n",
       "      <td>On Hold</td>\n",
       "      <td>2</td>\n",
       "      <td>5</td>\n",
       "      <td>2005</td>\n",
       "      <td>...</td>\n",
       "      <td>8616 Spinnaker Dr.</td>\n",
       "      <td>NaN</td>\n",
       "      <td>Boston</td>\n",
       "      <td>MA</td>\n",
       "      <td>51003</td>\n",
       "      <td>USA</td>\n",
       "      <td>NaN</td>\n",
       "      <td>Yoshido</td>\n",
       "      <td>Juri</td>\n",
       "      <td>Medium</td>\n",
       "    </tr>\n",
       "  </tbody>\n",
       "</table>\n",
       "<p>10 rows × 25 columns</p>\n",
       "</div>"
      ],
      "text/plain": [
       "      ORDERNUMBER  QUANTITYORDERED  PRICEEACH  ORDERLINENUMBER    SALES  \\\n",
       "2813        10293               32      60.06                1  1921.92   \n",
       "2814        10306               35      59.51                6  2082.85   \n",
       "2815        10315               40      55.69                5  2227.60   \n",
       "2816        10327               37      86.74                4  3209.38   \n",
       "2817        10337               42      97.16                5  4080.72   \n",
       "2818        10350               20     100.00               15  2244.40   \n",
       "2819        10373               29     100.00                1  3978.51   \n",
       "2820        10386               43     100.00                4  5417.57   \n",
       "2821        10397               34      62.24                1  2116.16   \n",
       "2822        10414               47      65.52                9  3079.44   \n",
       "\n",
       "            ORDERDATE    STATUS  QTR_ID  MONTH_ID  YEAR_ID   ...     \\\n",
       "2813    9/9/2004 0:00   Shipped       3         9     2004   ...      \n",
       "2814  10/14/2004 0:00   Shipped       4        10     2004   ...      \n",
       "2815  10/29/2004 0:00   Shipped       4        10     2004   ...      \n",
       "2816  11/10/2004 0:00  Resolved       4        11     2004   ...      \n",
       "2817  11/21/2004 0:00   Shipped       4        11     2004   ...      \n",
       "2818   12/2/2004 0:00   Shipped       4        12     2004   ...      \n",
       "2819   1/31/2005 0:00   Shipped       1         1     2005   ...      \n",
       "2820    3/1/2005 0:00  Resolved       1         3     2005   ...      \n",
       "2821   3/28/2005 0:00   Shipped       1         3     2005   ...      \n",
       "2822    5/6/2005 0:00   On Hold       2         5     2005   ...      \n",
       "\n",
       "                      ADDRESSLINE1  ADDRESSLINE2        CITY STATE POSTALCODE  \\\n",
       "2813           Via Monte Bianco 34           NaN      Torino   NaN      10100   \n",
       "2814             Fauntleroy Circus           NaN  Manchester   NaN    EC2 5NT   \n",
       "2815  67, rue des Cinquante Otages           NaN      Nantes   NaN      44000   \n",
       "2816                  Vinb'ltet 34           NaN   Kobenhavn   NaN       1734   \n",
       "2817              5905 Pompton St.     Suite 750         NYC    NY      10022   \n",
       "2818            C/ Moralzarzal, 86           NaN      Madrid   NaN      28034   \n",
       "2819                   Torikatu 38           NaN        Oulu   NaN      90110   \n",
       "2820            C/ Moralzarzal, 86           NaN      Madrid   NaN      28034   \n",
       "2821         1 rue Alsace-Lorraine           NaN    Toulouse   NaN      31000   \n",
       "2822            8616 Spinnaker Dr.           NaN      Boston    MA      51003   \n",
       "\n",
       "      COUNTRY TERRITORY CONTACTLASTNAME CONTACTFIRSTNAME DEALSIZE  \n",
       "2813    Italy      EMEA         Accorti            Paolo    Small  \n",
       "2814       UK      EMEA        Ashworth         Victoria    Small  \n",
       "2815   France      EMEA         Labrune           Janine    Small  \n",
       "2816  Denmark      EMEA        Petersen            Jytte   Medium  \n",
       "2817      USA       NaN       Hernandez            Maria   Medium  \n",
       "2818    Spain      EMEA          Freyre            Diego    Small  \n",
       "2819  Finland      EMEA       Koskitalo           Pirkko   Medium  \n",
       "2820    Spain      EMEA          Freyre            Diego   Medium  \n",
       "2821   France      EMEA          Roulet          Annette    Small  \n",
       "2822      USA       NaN         Yoshido             Juri   Medium  \n",
       "\n",
       "[10 rows x 25 columns]"
      ]
     },
     "execution_count": 14,
     "metadata": {},
     "output_type": "execute_result"
    }
   ],
   "source": [
    "# View the first 10 records\n",
    "sales.tail(10)\n",
    "# auto creates an HTML table with styling"
   ]
  },
  {
   "cell_type": "code",
   "execution_count": 15,
   "metadata": {},
   "outputs": [
    {
     "name": "stdout",
     "output_type": "stream",
     "text": [
      "<class 'pandas.core.frame.DataFrame'>\n",
      "RangeIndex: 2823 entries, 0 to 2822\n",
      "Data columns (total 25 columns):\n",
      "ORDERNUMBER         2823 non-null int64\n",
      "QUANTITYORDERED     2823 non-null int64\n",
      "PRICEEACH           2823 non-null float64\n",
      "ORDERLINENUMBER     2823 non-null int64\n",
      "SALES               2823 non-null float64\n",
      "ORDERDATE           2823 non-null object\n",
      "STATUS              2823 non-null object\n",
      "QTR_ID              2823 non-null int64\n",
      "MONTH_ID            2823 non-null int64\n",
      "YEAR_ID             2823 non-null int64\n",
      "PRODUCTLINE         2823 non-null object\n",
      "MSRP                2823 non-null int64\n",
      "PRODUCTCODE         2823 non-null object\n",
      "CUSTOMERNAME        2823 non-null object\n",
      "PHONE               2823 non-null object\n",
      "ADDRESSLINE1        2823 non-null object\n",
      "ADDRESSLINE2        302 non-null object\n",
      "CITY                2823 non-null object\n",
      "STATE               1337 non-null object\n",
      "POSTALCODE          2747 non-null object\n",
      "COUNTRY             2823 non-null object\n",
      "TERRITORY           1749 non-null object\n",
      "CONTACTLASTNAME     2823 non-null object\n",
      "CONTACTFIRSTNAME    2823 non-null object\n",
      "DEALSIZE            2823 non-null object\n",
      "dtypes: float64(2), int64(7), object(16)\n",
      "memory usage: 551.4+ KB\n"
     ]
    }
   ],
   "source": [
    "# View Schema\n",
    "sales.info()"
   ]
  },
  {
   "cell_type": "code",
   "execution_count": 16,
   "metadata": {},
   "outputs": [
    {
     "data": {
      "text/html": [
       "<div>\n",
       "<style scoped>\n",
       "    .dataframe tbody tr th:only-of-type {\n",
       "        vertical-align: middle;\n",
       "    }\n",
       "\n",
       "    .dataframe tbody tr th {\n",
       "        vertical-align: top;\n",
       "    }\n",
       "\n",
       "    .dataframe thead th {\n",
       "        text-align: right;\n",
       "    }\n",
       "</style>\n",
       "<table border=\"1\" class=\"dataframe\">\n",
       "  <thead>\n",
       "    <tr style=\"text-align: right;\">\n",
       "      <th></th>\n",
       "      <th>ORDERNUMBER</th>\n",
       "      <th>QUANTITYORDERED</th>\n",
       "      <th>PRICEEACH</th>\n",
       "      <th>ORDERLINENUMBER</th>\n",
       "      <th>SALES</th>\n",
       "      <th>QTR_ID</th>\n",
       "      <th>MONTH_ID</th>\n",
       "      <th>YEAR_ID</th>\n",
       "      <th>MSRP</th>\n",
       "    </tr>\n",
       "  </thead>\n",
       "  <tbody>\n",
       "    <tr>\n",
       "      <th>count</th>\n",
       "      <td>2823.000000</td>\n",
       "      <td>2823.000000</td>\n",
       "      <td>2823.000000</td>\n",
       "      <td>2823.000000</td>\n",
       "      <td>2823.000000</td>\n",
       "      <td>2823.000000</td>\n",
       "      <td>2823.000000</td>\n",
       "      <td>2823.00000</td>\n",
       "      <td>2823.000000</td>\n",
       "    </tr>\n",
       "    <tr>\n",
       "      <th>mean</th>\n",
       "      <td>10258.725115</td>\n",
       "      <td>35.092809</td>\n",
       "      <td>83.658544</td>\n",
       "      <td>6.466171</td>\n",
       "      <td>3553.889072</td>\n",
       "      <td>2.717676</td>\n",
       "      <td>7.092455</td>\n",
       "      <td>2003.81509</td>\n",
       "      <td>100.715551</td>\n",
       "    </tr>\n",
       "    <tr>\n",
       "      <th>std</th>\n",
       "      <td>92.085478</td>\n",
       "      <td>9.741443</td>\n",
       "      <td>20.174277</td>\n",
       "      <td>4.225841</td>\n",
       "      <td>1841.865106</td>\n",
       "      <td>1.203878</td>\n",
       "      <td>3.656633</td>\n",
       "      <td>0.69967</td>\n",
       "      <td>40.187912</td>\n",
       "    </tr>\n",
       "    <tr>\n",
       "      <th>min</th>\n",
       "      <td>10100.000000</td>\n",
       "      <td>6.000000</td>\n",
       "      <td>26.880000</td>\n",
       "      <td>1.000000</td>\n",
       "      <td>482.130000</td>\n",
       "      <td>1.000000</td>\n",
       "      <td>1.000000</td>\n",
       "      <td>2003.00000</td>\n",
       "      <td>33.000000</td>\n",
       "    </tr>\n",
       "    <tr>\n",
       "      <th>25%</th>\n",
       "      <td>10180.000000</td>\n",
       "      <td>27.000000</td>\n",
       "      <td>68.860000</td>\n",
       "      <td>3.000000</td>\n",
       "      <td>2203.430000</td>\n",
       "      <td>2.000000</td>\n",
       "      <td>4.000000</td>\n",
       "      <td>2003.00000</td>\n",
       "      <td>68.000000</td>\n",
       "    </tr>\n",
       "    <tr>\n",
       "      <th>50%</th>\n",
       "      <td>10262.000000</td>\n",
       "      <td>35.000000</td>\n",
       "      <td>95.700000</td>\n",
       "      <td>6.000000</td>\n",
       "      <td>3184.800000</td>\n",
       "      <td>3.000000</td>\n",
       "      <td>8.000000</td>\n",
       "      <td>2004.00000</td>\n",
       "      <td>99.000000</td>\n",
       "    </tr>\n",
       "    <tr>\n",
       "      <th>75%</th>\n",
       "      <td>10333.500000</td>\n",
       "      <td>43.000000</td>\n",
       "      <td>100.000000</td>\n",
       "      <td>9.000000</td>\n",
       "      <td>4508.000000</td>\n",
       "      <td>4.000000</td>\n",
       "      <td>11.000000</td>\n",
       "      <td>2004.00000</td>\n",
       "      <td>124.000000</td>\n",
       "    </tr>\n",
       "    <tr>\n",
       "      <th>max</th>\n",
       "      <td>10425.000000</td>\n",
       "      <td>97.000000</td>\n",
       "      <td>100.000000</td>\n",
       "      <td>18.000000</td>\n",
       "      <td>14082.800000</td>\n",
       "      <td>4.000000</td>\n",
       "      <td>12.000000</td>\n",
       "      <td>2005.00000</td>\n",
       "      <td>214.000000</td>\n",
       "    </tr>\n",
       "  </tbody>\n",
       "</table>\n",
       "</div>"
      ],
      "text/plain": [
       "        ORDERNUMBER  QUANTITYORDERED    PRICEEACH  ORDERLINENUMBER  \\\n",
       "count   2823.000000      2823.000000  2823.000000      2823.000000   \n",
       "mean   10258.725115        35.092809    83.658544         6.466171   \n",
       "std       92.085478         9.741443    20.174277         4.225841   \n",
       "min    10100.000000         6.000000    26.880000         1.000000   \n",
       "25%    10180.000000        27.000000    68.860000         3.000000   \n",
       "50%    10262.000000        35.000000    95.700000         6.000000   \n",
       "75%    10333.500000        43.000000   100.000000         9.000000   \n",
       "max    10425.000000        97.000000   100.000000        18.000000   \n",
       "\n",
       "              SALES       QTR_ID     MONTH_ID     YEAR_ID         MSRP  \n",
       "count   2823.000000  2823.000000  2823.000000  2823.00000  2823.000000  \n",
       "mean    3553.889072     2.717676     7.092455  2003.81509   100.715551  \n",
       "std     1841.865106     1.203878     3.656633     0.69967    40.187912  \n",
       "min      482.130000     1.000000     1.000000  2003.00000    33.000000  \n",
       "25%     2203.430000     2.000000     4.000000  2003.00000    68.000000  \n",
       "50%     3184.800000     3.000000     8.000000  2004.00000    99.000000  \n",
       "75%     4508.000000     4.000000    11.000000  2004.00000   124.000000  \n",
       "max    14082.800000     4.000000    12.000000  2005.00000   214.000000  "
      ]
     },
     "execution_count": 16,
     "metadata": {},
     "output_type": "execute_result"
    }
   ],
   "source": [
    "# View distribution of numeric data\n",
    "sales.describe()"
   ]
  },
  {
   "cell_type": "code",
   "execution_count": 17,
   "metadata": {},
   "outputs": [
    {
     "data": {
      "text/plain": [
       "array(['S10_1678', 'S10_1949', 'S10_2016', 'S10_4698', 'S10_4757',\n",
       "       'S10_4962', 'S12_1099', 'S12_1108', 'S12_1666', 'S12_2823',\n",
       "       'S12_3148', 'S12_3380', 'S12_3891', 'S12_3990', 'S12_4473',\n",
       "       'S12_4675', 'S18_1097', 'S18_1129', 'S18_1342', 'S18_1367',\n",
       "       'S18_1589', 'S18_1662', 'S18_1749', 'S18_1889', 'S18_1984',\n",
       "       'S18_2238', 'S18_2248', 'S18_2319', 'S18_2325', 'S18_2432',\n",
       "       'S18_2581', 'S18_2625', 'S18_2795', 'S18_2870', 'S18_2949',\n",
       "       'S18_2957', 'S18_3029', 'S18_3136', 'S18_3140', 'S18_3232',\n",
       "       'S18_3259', 'S18_3278', 'S18_3320', 'S18_3482', 'S18_3685',\n",
       "       'S18_3782', 'S18_3856', 'S18_4027', 'S18_4409', 'S18_4522',\n",
       "       'S18_4600', 'S18_4668', 'S18_4721', 'S18_4933', 'S24_1046',\n",
       "       'S24_1444', 'S24_1578', 'S24_1628', 'S24_1785', 'S24_1937',\n",
       "       'S24_2000', 'S24_2011', 'S24_2022', 'S24_2300', 'S24_2360',\n",
       "       'S24_2766', 'S24_2840', 'S24_2841', 'S24_2887', 'S24_2972',\n",
       "       'S24_3151', 'S24_3191', 'S24_3371', 'S24_3420', 'S24_3432',\n",
       "       'S24_3816', 'S24_3856', 'S24_3949', 'S24_3969', 'S24_4048',\n",
       "       'S24_4258', 'S24_4278', 'S24_4620', 'S32_1268', 'S32_1374',\n",
       "       'S32_2206', 'S32_2509', 'S32_3207', 'S32_3522', 'S32_4289',\n",
       "       'S32_4485', 'S50_1341', 'S50_1392', 'S50_1514', 'S50_4713',\n",
       "       'S700_1138', 'S700_1691', 'S700_1938', 'S700_2047', 'S700_2466',\n",
       "       'S700_2610', 'S700_2824', 'S700_2834', 'S700_3167', 'S700_3505',\n",
       "       'S700_3962', 'S700_4002', 'S72_1253', 'S72_3212'], dtype=object)"
      ]
     },
     "execution_count": 17,
     "metadata": {},
     "output_type": "execute_result"
    }
   ],
   "source": [
    "# show unique product codes\n",
    "sales[\"PRODUCTCODE\"].unique()"
   ]
  },
  {
   "cell_type": "markdown",
   "metadata": {},
   "source": [
    "## Show me a single product"
   ]
  },
  {
   "cell_type": "code",
   "execution_count": 18,
   "metadata": {},
   "outputs": [
    {
     "data": {
      "text/html": [
       "<div>\n",
       "<style scoped>\n",
       "    .dataframe tbody tr th:only-of-type {\n",
       "        vertical-align: middle;\n",
       "    }\n",
       "\n",
       "    .dataframe tbody tr th {\n",
       "        vertical-align: top;\n",
       "    }\n",
       "\n",
       "    .dataframe thead th {\n",
       "        text-align: right;\n",
       "    }\n",
       "</style>\n",
       "<table border=\"1\" class=\"dataframe\">\n",
       "  <thead>\n",
       "    <tr style=\"text-align: right;\">\n",
       "      <th></th>\n",
       "      <th>ORDERNUMBER</th>\n",
       "      <th>QUANTITYORDERED</th>\n",
       "      <th>PRICEEACH</th>\n",
       "      <th>ORDERLINENUMBER</th>\n",
       "      <th>SALES</th>\n",
       "      <th>ORDERDATE</th>\n",
       "      <th>STATUS</th>\n",
       "      <th>QTR_ID</th>\n",
       "      <th>MONTH_ID</th>\n",
       "      <th>YEAR_ID</th>\n",
       "      <th>...</th>\n",
       "      <th>ADDRESSLINE1</th>\n",
       "      <th>ADDRESSLINE2</th>\n",
       "      <th>CITY</th>\n",
       "      <th>STATE</th>\n",
       "      <th>POSTALCODE</th>\n",
       "      <th>COUNTRY</th>\n",
       "      <th>TERRITORY</th>\n",
       "      <th>CONTACTLASTNAME</th>\n",
       "      <th>CONTACTFIRSTNAME</th>\n",
       "      <th>DEALSIZE</th>\n",
       "    </tr>\n",
       "  </thead>\n",
       "  <tbody>\n",
       "    <tr>\n",
       "      <th>680</th>\n",
       "      <td>10100</td>\n",
       "      <td>50</td>\n",
       "      <td>67.80</td>\n",
       "      <td>2</td>\n",
       "      <td>3390.00</td>\n",
       "      <td>1/6/2003 0:00</td>\n",
       "      <td>Shipped</td>\n",
       "      <td>1</td>\n",
       "      <td>1</td>\n",
       "      <td>2003</td>\n",
       "      <td>...</td>\n",
       "      <td>2304 Long Airport Avenue</td>\n",
       "      <td>NaN</td>\n",
       "      <td>Nashua</td>\n",
       "      <td>NH</td>\n",
       "      <td>62005</td>\n",
       "      <td>USA</td>\n",
       "      <td>NaN</td>\n",
       "      <td>Young</td>\n",
       "      <td>Valarie</td>\n",
       "      <td>Medium</td>\n",
       "    </tr>\n",
       "    <tr>\n",
       "      <th>681</th>\n",
       "      <td>10110</td>\n",
       "      <td>32</td>\n",
       "      <td>50.25</td>\n",
       "      <td>6</td>\n",
       "      <td>1608.00</td>\n",
       "      <td>3/18/2003 0:00</td>\n",
       "      <td>Shipped</td>\n",
       "      <td>1</td>\n",
       "      <td>3</td>\n",
       "      <td>2003</td>\n",
       "      <td>...</td>\n",
       "      <td>Fauntleroy Circus</td>\n",
       "      <td>NaN</td>\n",
       "      <td>Manchester</td>\n",
       "      <td>NaN</td>\n",
       "      <td>EC2 5NT</td>\n",
       "      <td>UK</td>\n",
       "      <td>EMEA</td>\n",
       "      <td>Ashworth</td>\n",
       "      <td>Victoria</td>\n",
       "      <td>Small</td>\n",
       "    </tr>\n",
       "    <tr>\n",
       "      <th>682</th>\n",
       "      <td>10124</td>\n",
       "      <td>42</td>\n",
       "      <td>53.88</td>\n",
       "      <td>5</td>\n",
       "      <td>2262.96</td>\n",
       "      <td>5/21/2003 0:00</td>\n",
       "      <td>Shipped</td>\n",
       "      <td>2</td>\n",
       "      <td>5</td>\n",
       "      <td>2003</td>\n",
       "      <td>...</td>\n",
       "      <td>8489 Strong St.</td>\n",
       "      <td>NaN</td>\n",
       "      <td>Las Vegas</td>\n",
       "      <td>NV</td>\n",
       "      <td>83030</td>\n",
       "      <td>USA</td>\n",
       "      <td>NaN</td>\n",
       "      <td>King</td>\n",
       "      <td>Sue</td>\n",
       "      <td>Small</td>\n",
       "    </tr>\n",
       "    <tr>\n",
       "      <th>683</th>\n",
       "      <td>10149</td>\n",
       "      <td>24</td>\n",
       "      <td>62.36</td>\n",
       "      <td>10</td>\n",
       "      <td>1496.64</td>\n",
       "      <td>9/12/2003 0:00</td>\n",
       "      <td>Shipped</td>\n",
       "      <td>3</td>\n",
       "      <td>9</td>\n",
       "      <td>2003</td>\n",
       "      <td>...</td>\n",
       "      <td>2793 Furth Circle</td>\n",
       "      <td>NaN</td>\n",
       "      <td>Brisbane</td>\n",
       "      <td>CA</td>\n",
       "      <td>94217</td>\n",
       "      <td>USA</td>\n",
       "      <td>NaN</td>\n",
       "      <td>Taylor</td>\n",
       "      <td>Sue</td>\n",
       "      <td>Small</td>\n",
       "    </tr>\n",
       "    <tr>\n",
       "      <th>684</th>\n",
       "      <td>10162</td>\n",
       "      <td>27</td>\n",
       "      <td>69.62</td>\n",
       "      <td>8</td>\n",
       "      <td>1879.74</td>\n",
       "      <td>10/18/2003 0:00</td>\n",
       "      <td>Shipped</td>\n",
       "      <td>4</td>\n",
       "      <td>10</td>\n",
       "      <td>2003</td>\n",
       "      <td>...</td>\n",
       "      <td>7734 Strong St.</td>\n",
       "      <td>NaN</td>\n",
       "      <td>San Francisco</td>\n",
       "      <td>CA</td>\n",
       "      <td>NaN</td>\n",
       "      <td>USA</td>\n",
       "      <td>NaN</td>\n",
       "      <td>Brown</td>\n",
       "      <td>Julie</td>\n",
       "      <td>Small</td>\n",
       "    </tr>\n",
       "  </tbody>\n",
       "</table>\n",
       "<p>5 rows × 25 columns</p>\n",
       "</div>"
      ],
      "text/plain": [
       "     ORDERNUMBER  QUANTITYORDERED  PRICEEACH  ORDERLINENUMBER    SALES  \\\n",
       "680        10100               50      67.80                2  3390.00   \n",
       "681        10110               32      50.25                6  1608.00   \n",
       "682        10124               42      53.88                5  2262.96   \n",
       "683        10149               24      62.36               10  1496.64   \n",
       "684        10162               27      69.62                8  1879.74   \n",
       "\n",
       "           ORDERDATE   STATUS  QTR_ID  MONTH_ID  YEAR_ID   ...     \\\n",
       "680    1/6/2003 0:00  Shipped       1         1     2003   ...      \n",
       "681   3/18/2003 0:00  Shipped       1         3     2003   ...      \n",
       "682   5/21/2003 0:00  Shipped       2         5     2003   ...      \n",
       "683   9/12/2003 0:00  Shipped       3         9     2003   ...      \n",
       "684  10/18/2003 0:00  Shipped       4        10     2003   ...      \n",
       "\n",
       "                 ADDRESSLINE1  ADDRESSLINE2           CITY STATE POSTALCODE  \\\n",
       "680  2304 Long Airport Avenue           NaN         Nashua    NH      62005   \n",
       "681         Fauntleroy Circus           NaN     Manchester   NaN    EC2 5NT   \n",
       "682           8489 Strong St.           NaN      Las Vegas    NV      83030   \n",
       "683         2793 Furth Circle           NaN       Brisbane    CA      94217   \n",
       "684           7734 Strong St.           NaN  San Francisco    CA        NaN   \n",
       "\n",
       "    COUNTRY TERRITORY CONTACTLASTNAME CONTACTFIRSTNAME DEALSIZE  \n",
       "680     USA       NaN           Young          Valarie   Medium  \n",
       "681      UK      EMEA        Ashworth         Victoria    Small  \n",
       "682     USA       NaN            King              Sue    Small  \n",
       "683     USA       NaN          Taylor              Sue    Small  \n",
       "684     USA       NaN           Brown            Julie    Small  \n",
       "\n",
       "[5 rows x 25 columns]"
      ]
     },
     "execution_count": 18,
     "metadata": {},
     "output_type": "execute_result"
    }
   ],
   "source": [
    "sales[sales.PRODUCTCODE==\"S18_2248\"].head(5)\n",
    "# in this case, brackets are used to filter rows.  That's potentially confusing to readers, \n",
    "# but this is such a simple case, they'll probably figure it out"
   ]
  },
  {
   "cell_type": "markdown",
   "metadata": {},
   "source": [
    "## When was it sold for more than MSRP?\n",
    "Group by country, show averages\n",
    "Show me the top 5"
   ]
  },
  {
   "cell_type": "code",
   "execution_count": 19,
   "metadata": {},
   "outputs": [
    {
     "data": {
      "text/html": [
       "<div>\n",
       "<style scoped>\n",
       "    .dataframe tbody tr th:only-of-type {\n",
       "        vertical-align: middle;\n",
       "    }\n",
       "\n",
       "    .dataframe tbody tr th {\n",
       "        vertical-align: top;\n",
       "    }\n",
       "\n",
       "    .dataframe thead th {\n",
       "        text-align: right;\n",
       "    }\n",
       "</style>\n",
       "<table border=\"1\" class=\"dataframe\">\n",
       "  <thead>\n",
       "    <tr style=\"text-align: right;\">\n",
       "      <th></th>\n",
       "      <th>SALES</th>\n",
       "      <th>PRICEEACH</th>\n",
       "    </tr>\n",
       "    <tr>\n",
       "      <th>COUNTRY</th>\n",
       "      <th></th>\n",
       "      <th></th>\n",
       "    </tr>\n",
       "  </thead>\n",
       "  <tbody>\n",
       "    <tr>\n",
       "      <th>UK</th>\n",
       "      <td>3201.500</td>\n",
       "      <td>84.25</td>\n",
       "    </tr>\n",
       "    <tr>\n",
       "      <th>USA</th>\n",
       "      <td>3062.975</td>\n",
       "      <td>100.00</td>\n",
       "    </tr>\n",
       "    <tr>\n",
       "      <th>France</th>\n",
       "      <td>2397.450</td>\n",
       "      <td>72.65</td>\n",
       "    </tr>\n",
       "    <tr>\n",
       "      <th>Australia</th>\n",
       "      <td>2288.520</td>\n",
       "      <td>63.57</td>\n",
       "    </tr>\n",
       "    <tr>\n",
       "      <th>Singapore</th>\n",
       "      <td>1729.000</td>\n",
       "      <td>61.75</td>\n",
       "    </tr>\n",
       "  </tbody>\n",
       "</table>\n",
       "</div>"
      ],
      "text/plain": [
       "              SALES  PRICEEACH\n",
       "COUNTRY                       \n",
       "UK         3201.500      84.25\n",
       "USA        3062.975     100.00\n",
       "France     2397.450      72.65\n",
       "Australia  2288.520      63.57\n",
       "Singapore  1729.000      61.75"
      ]
     },
     "execution_count": 19,
     "metadata": {},
     "output_type": "execute_result"
    }
   ],
   "source": [
    "# to filter by rows AND select certain columns, we need to use YET ANOTHER SYNTAX that is not obvious\n",
    "# I will spread chaining steps across different lines to help with readability.\n",
    "(\n",
    "    sales\n",
    "    .loc[(sales.PRODUCTCODE==\"S18_2248\") & (sales.PRICEEACH>sales.MSRP),\n",
    "         [\"ORDERDATE\",\"CUSTOMERNAME\",\"PRODUCTCODE\",\"PRICEEACH\",\"MSRP\",\"QUANTITYORDERED\",\"COUNTRY\",\"SALES\"]]\n",
    "    .groupby(\"COUNTRY\")\n",
    "    .aggregate({\"SALES\":\"mean\",\"PRICEEACH\":\"max\"})  # seriously, I need to embed JSON??\n",
    "    .sort_values(by=\"SALES\",ascending=False)\n",
    "    .head(5)\n",
    ")    \n",
    "# Why do I need to know about internal details of data frame to do simple queries?\n",
    "# Why do I specify so many things as strings?\n",
    "# Whatever, I think I got it now."
   ]
  },
  {
   "cell_type": "markdown",
   "metadata": {},
   "source": [
    "# Calculate Wholesale Price and Markup\n",
    "* Wholesale is 30% of MSRP.\n",
    "* Markup = PRICEACH - WHOLESALE"
   ]
  },
  {
   "cell_type": "code",
   "execution_count": 20,
   "metadata": {},
   "outputs": [
    {
     "data": {
      "text/html": [
       "<div>\n",
       "<style scoped>\n",
       "    .dataframe tbody tr th:only-of-type {\n",
       "        vertical-align: middle;\n",
       "    }\n",
       "\n",
       "    .dataframe tbody tr th {\n",
       "        vertical-align: top;\n",
       "    }\n",
       "\n",
       "    .dataframe thead th {\n",
       "        text-align: right;\n",
       "    }\n",
       "</style>\n",
       "<table border=\"1\" class=\"dataframe\">\n",
       "  <thead>\n",
       "    <tr style=\"text-align: right;\">\n",
       "      <th></th>\n",
       "      <th>MARKUP</th>\n",
       "      <th>WHOLESALE</th>\n",
       "    </tr>\n",
       "    <tr>\n",
       "      <th>COUNTRY</th>\n",
       "      <th></th>\n",
       "      <th></th>\n",
       "    </tr>\n",
       "  </thead>\n",
       "  <tbody>\n",
       "    <tr>\n",
       "      <th>USA</th>\n",
       "      <td>50.894444</td>\n",
       "      <td>18.0</td>\n",
       "    </tr>\n",
       "    <tr>\n",
       "      <th>UK</th>\n",
       "      <td>49.250000</td>\n",
       "      <td>18.0</td>\n",
       "    </tr>\n",
       "    <tr>\n",
       "      <th>Singapore</th>\n",
       "      <td>43.750000</td>\n",
       "      <td>18.0</td>\n",
       "    </tr>\n",
       "    <tr>\n",
       "      <th>Australia</th>\n",
       "      <td>43.450000</td>\n",
       "      <td>18.0</td>\n",
       "    </tr>\n",
       "    <tr>\n",
       "      <th>Italy</th>\n",
       "      <td>42.235000</td>\n",
       "      <td>18.0</td>\n",
       "    </tr>\n",
       "  </tbody>\n",
       "</table>\n",
       "</div>"
      ],
      "text/plain": [
       "              MARKUP  WHOLESALE\n",
       "COUNTRY                        \n",
       "USA        50.894444       18.0\n",
       "UK         49.250000       18.0\n",
       "Singapore  43.750000       18.0\n",
       "Australia  43.450000       18.0\n",
       "Italy      42.235000       18.0"
      ]
     },
     "execution_count": 20,
     "metadata": {},
     "output_type": "execute_result"
    }
   ],
   "source": [
    "# Calculated a new field, but I can't use that new field with .loc method.  Argh!!\n",
    "# so I need to use YET ANOTHER method, 'query' that takes a string... really?\n",
    "# and why isn't there a cleaner way to do a column selection?\n",
    "(\n",
    "    sales[[\"ORDERDATE\",\"PRODUCTCODE\",\"PRICEEACH\",\"MSRP\",\"QUANTITYORDERED\",\"COUNTRY\",\"SALES\"]]\n",
    "    .assign(MARKUP=sales.PRICEEACH-(sales.MSRP*0.30),\n",
    "            WHOLESALE=sales.MSRP*0.30) # Had to repeat definition of calculation. Argh!\n",
    "    .query(\"(PRODUCTCODE=='S18_2248') & (MARKUP>0)\") # a query string?  REALLY!?  A string embedded in a string\n",
    "    .groupby(\"COUNTRY\")\n",
    "    .aggregate({\"MARKUP\":\"mean\",\"WHOLESALE\":\"mean\"}) # seriously, I need to embed JSON??\n",
    "    .sort_values(by=\"MARKUP\",ascending=False)\n",
    "    .head(5)\n",
    ")   \n",
    "# WOW, lots of magic strings. I was told in 1992 that was a bad practice!!"
   ]
  },
  {
   "cell_type": "markdown",
   "metadata": {},
   "source": [
    "# Easier Syntax\n",
    "* Easier for those who use R, F# or SQL\n",
    "* Easier for non-technical people to follow\n",
    "* Easier to iteratively refactor as you are asking questions"
   ]
  },
  {
   "cell_type": "code",
   "execution_count": 21,
   "metadata": {},
   "outputs": [],
   "source": [
    "from dfply import *"
   ]
  },
  {
   "cell_type": "code",
   "execution_count": 22,
   "metadata": {},
   "outputs": [
    {
     "data": {
      "text/html": [
       "<div>\n",
       "<style scoped>\n",
       "    .dataframe tbody tr th:only-of-type {\n",
       "        vertical-align: middle;\n",
       "    }\n",
       "\n",
       "    .dataframe tbody tr th {\n",
       "        vertical-align: top;\n",
       "    }\n",
       "\n",
       "    .dataframe thead th {\n",
       "        text-align: right;\n",
       "    }\n",
       "</style>\n",
       "<table border=\"1\" class=\"dataframe\">\n",
       "  <thead>\n",
       "    <tr style=\"text-align: right;\">\n",
       "      <th></th>\n",
       "      <th>COUNTRY</th>\n",
       "      <th>MARKUP_mean</th>\n",
       "      <th>WHOLESALE_mean</th>\n",
       "    </tr>\n",
       "  </thead>\n",
       "  <tbody>\n",
       "    <tr>\n",
       "      <th>6</th>\n",
       "      <td>USA</td>\n",
       "      <td>50.894444</td>\n",
       "      <td>18.0</td>\n",
       "    </tr>\n",
       "    <tr>\n",
       "      <th>5</th>\n",
       "      <td>UK</td>\n",
       "      <td>49.250000</td>\n",
       "      <td>18.0</td>\n",
       "    </tr>\n",
       "    <tr>\n",
       "      <th>3</th>\n",
       "      <td>Singapore</td>\n",
       "      <td>43.750000</td>\n",
       "      <td>18.0</td>\n",
       "    </tr>\n",
       "    <tr>\n",
       "      <th>0</th>\n",
       "      <td>Australia</td>\n",
       "      <td>43.450000</td>\n",
       "      <td>18.0</td>\n",
       "    </tr>\n",
       "    <tr>\n",
       "      <th>2</th>\n",
       "      <td>Italy</td>\n",
       "      <td>42.235000</td>\n",
       "      <td>18.0</td>\n",
       "    </tr>\n",
       "  </tbody>\n",
       "</table>\n",
       "</div>"
      ],
      "text/plain": [
       "     COUNTRY  MARKUP_mean  WHOLESALE_mean\n",
       "6        USA    50.894444            18.0\n",
       "5         UK    49.250000            18.0\n",
       "3  Singapore    43.750000            18.0\n",
       "0  Australia    43.450000            18.0\n",
       "2      Italy    42.235000            18.0"
      ]
     },
     "execution_count": 22,
     "metadata": {},
     "output_type": "execute_result"
    }
   ],
   "source": [
    "# Ahhh. I feel like I can breathe again.\n",
    "# each line is more readable and follows a standard\n",
    "# these functions are just about all you need to know\n",
    "# my only string is the product code, which is reasonable in this use case\n",
    "(\n",
    "    sales \n",
    "    >> mutate(WHOLESALE=X.MSRP*0.30)\n",
    "    >> mutate(MARKUP=X.PRICEEACH-X.WHOLESALE)\n",
    "    >> filter_by((X.PRODUCTCODE==\"S18_2248\") & (X.MARKUP>0)) \n",
    "    >> select(X.ORDERDATE,X.PRODUCTCODE,X.PRICEEACH,X.MSRP,X.QUANTITYORDERED,X.COUNTRY,X.SALES,X.MARKUP,X.WHOLESALE) \n",
    "    >> group_by(X.COUNTRY)\n",
    "    >> summarise(MARKUP_mean=X.MARKUP.mean(),WHOLESALE_mean=X.WHOLESALE.mean())\n",
    "    >> ungroup()\n",
    "    >> arrange(X.MARKUP_mean,ascending=False)\n",
    "    >> head(5)\n",
    ")"
   ]
  },
  {
   "cell_type": "code",
   "execution_count": 23,
   "metadata": {},
   "outputs": [
    {
     "data": {
      "text/html": [
       "<div>\n",
       "<style scoped>\n",
       "    .dataframe tbody tr th:only-of-type {\n",
       "        vertical-align: middle;\n",
       "    }\n",
       "\n",
       "    .dataframe tbody tr th {\n",
       "        vertical-align: top;\n",
       "    }\n",
       "\n",
       "    .dataframe thead th {\n",
       "        text-align: right;\n",
       "    }\n",
       "</style>\n",
       "<table border=\"1\" class=\"dataframe\">\n",
       "  <thead>\n",
       "    <tr style=\"text-align: right;\">\n",
       "      <th></th>\n",
       "      <th>ORDERDATE</th>\n",
       "      <th>PRODUCTCODE</th>\n",
       "      <th>PRICEEACH</th>\n",
       "      <th>MSRP</th>\n",
       "      <th>SALES</th>\n",
       "      <th>PRODUCTLINE</th>\n",
       "    </tr>\n",
       "  </thead>\n",
       "  <tbody>\n",
       "    <tr>\n",
       "      <th>680</th>\n",
       "      <td>1/6/2003 0:00</td>\n",
       "      <td>S18_2248</td>\n",
       "      <td>67.80</td>\n",
       "      <td>60</td>\n",
       "      <td>3390.00</td>\n",
       "      <td>Vintage Cars</td>\n",
       "    </tr>\n",
       "    <tr>\n",
       "      <th>681</th>\n",
       "      <td>3/18/2003 0:00</td>\n",
       "      <td>S18_2248</td>\n",
       "      <td>50.25</td>\n",
       "      <td>60</td>\n",
       "      <td>1608.00</td>\n",
       "      <td>Vintage Cars</td>\n",
       "    </tr>\n",
       "    <tr>\n",
       "      <th>682</th>\n",
       "      <td>5/21/2003 0:00</td>\n",
       "      <td>S18_2248</td>\n",
       "      <td>53.88</td>\n",
       "      <td>60</td>\n",
       "      <td>2262.96</td>\n",
       "      <td>Vintage Cars</td>\n",
       "    </tr>\n",
       "    <tr>\n",
       "      <th>683</th>\n",
       "      <td>9/12/2003 0:00</td>\n",
       "      <td>S18_2248</td>\n",
       "      <td>62.36</td>\n",
       "      <td>60</td>\n",
       "      <td>1496.64</td>\n",
       "      <td>Vintage Cars</td>\n",
       "    </tr>\n",
       "    <tr>\n",
       "      <th>684</th>\n",
       "      <td>10/18/2003 0:00</td>\n",
       "      <td>S18_2248</td>\n",
       "      <td>69.62</td>\n",
       "      <td>60</td>\n",
       "      <td>1879.74</td>\n",
       "      <td>Vintage Cars</td>\n",
       "    </tr>\n",
       "  </tbody>\n",
       "</table>\n",
       "</div>"
      ],
      "text/plain": [
       "           ORDERDATE PRODUCTCODE  PRICEEACH  MSRP    SALES   PRODUCTLINE\n",
       "680    1/6/2003 0:00    S18_2248      67.80    60  3390.00  Vintage Cars\n",
       "681   3/18/2003 0:00    S18_2248      50.25    60  1608.00  Vintage Cars\n",
       "682   5/21/2003 0:00    S18_2248      53.88    60  2262.96  Vintage Cars\n",
       "683   9/12/2003 0:00    S18_2248      62.36    60  1496.64  Vintage Cars\n",
       "684  10/18/2003 0:00    S18_2248      69.62    60  1879.74  Vintage Cars"
      ]
     },
     "execution_count": 23,
     "metadata": {},
     "output_type": "execute_result"
    }
   ],
   "source": [
    "(\n",
    "    sales \n",
    "    >> filter_by(X.PRODUCTCODE==\"S18_2248\") \n",
    "    >> select(X.ORDERDATE,X.PRODUCTCODE,X.PRICEEACH,X.MSRP,X.SALES,X.PRODUCTLINE) \n",
    "    >> head(5)\n",
    ") "
   ]
  },
  {
   "cell_type": "markdown",
   "metadata": {},
   "source": [
    "# Show me sales by product line"
   ]
  },
  {
   "cell_type": "code",
   "execution_count": 24,
   "metadata": {},
   "outputs": [
    {
     "data": {
      "image/png": "[encoded data removed]",
      "text/plain": [
       "<Figure size 432x288 with 2 Axes>"
      ]
     },
     "metadata": {
      "needs_background": "light"
     },
     "output_type": "display_data"
    }
   ],
   "source": [
    "(\n",
    "    sales\n",
    "    >> group_by(X.PRODUCTLINE)\n",
    "    >> summarise(TotalSales=X.SALES.sum(),NumOrders=X.ORDERNUMBER.nunique())\n",
    "    >> ungroup()\n",
    ").plot.bar(x=\"PRODUCTLINE\",subplots=True);"
   ]
  },
  {
   "cell_type": "code",
   "execution_count": 25,
   "metadata": {},
   "outputs": [
    {
     "data": {
      "image/png": "[encoded data removed]",
      "text/plain": [
       "<Figure size 1080x360 with 1 Axes>"
      ]
     },
     "metadata": {
      "needs_background": "light"
     },
     "output_type": "display_data"
    }
   ],
   "source": [
    "# boxplot by product line\n",
    "(\n",
    "    sales\n",
    "    >> select(X.PRODUCTLINE,X.SALES)\n",
    ").boxplot(by=\"PRODUCTLINE\",figsize=(15,5),rot=90);"
   ]
  },
  {
   "cell_type": "markdown",
   "metadata": {},
   "source": [
    "## Show me sales by year"
   ]
  },
  {
   "cell_type": "code",
   "execution_count": 26,
   "metadata": {},
   "outputs": [
    {
     "data": {
      "image/png": "[encoded data removed]",
      "text/plain": [
       "<Figure size 432x288 with 1 Axes>"
      ]
     },
     "metadata": {
      "needs_background": "light"
     },
     "output_type": "display_data"
    }
   ],
   "source": [
    "(\n",
    "    sales\n",
    "    >> group_by(X.YEAR_ID)\n",
    "    >> summarise(TotalSales=X.SALES.sum())\n",
    "    >> ungroup()\n",
    ").plot.bar(x=\"YEAR_ID\");"
   ]
  },
  {
   "cell_type": "code",
   "execution_count": 27,
   "metadata": {},
   "outputs": [
    {
     "data": {
      "image/png": "[encoded data removed]",
      "text/plain": [
       "<Figure size 1080x360 with 1 Axes>"
      ]
     },
     "metadata": {
      "needs_background": "light"
     },
     "output_type": "display_data"
    }
   ],
   "source": [
    "# boxplot by year\n",
    "(\n",
    "    sales\n",
    "    >> select(X.YEAR_ID,X.SALES)\n",
    ").boxplot(by=\"YEAR_ID\",figsize=(15,5),rot=90);"
   ]
  },
  {
   "cell_type": "markdown",
   "metadata": {},
   "source": [
    "## Show me top customers"
   ]
  },
  {
   "cell_type": "code",
   "execution_count": 28,
   "metadata": {},
   "outputs": [
    {
     "data": {
      "text/html": [
       "<div>\n",
       "<style scoped>\n",
       "    .dataframe tbody tr th:only-of-type {\n",
       "        vertical-align: middle;\n",
       "    }\n",
       "\n",
       "    .dataframe tbody tr th {\n",
       "        vertical-align: top;\n",
       "    }\n",
       "\n",
       "    .dataframe thead th {\n",
       "        text-align: right;\n",
       "    }\n",
       "</style>\n",
       "<table border=\"1\" class=\"dataframe\">\n",
       "  <thead>\n",
       "    <tr style=\"text-align: right;\">\n",
       "      <th></th>\n",
       "      <th>CUSTOMERNAME</th>\n",
       "      <th>TotalSales</th>\n",
       "      <th>NumOrders</th>\n",
       "    </tr>\n",
       "  </thead>\n",
       "  <tbody>\n",
       "    <tr>\n",
       "      <th>33</th>\n",
       "      <td>Euro Shopping Channel</td>\n",
       "      <td>912294.11</td>\n",
       "      <td>26</td>\n",
       "    </tr>\n",
       "    <tr>\n",
       "      <th>55</th>\n",
       "      <td>Mini Gifts Distributors Ltd.</td>\n",
       "      <td>654858.06</td>\n",
       "      <td>17</td>\n",
       "    </tr>\n",
       "    <tr>\n",
       "      <th>6</th>\n",
       "      <td>Australian Collectors, Co.</td>\n",
       "      <td>200995.41</td>\n",
       "      <td>5</td>\n",
       "    </tr>\n",
       "    <tr>\n",
       "      <th>58</th>\n",
       "      <td>Muscle Machine Inc</td>\n",
       "      <td>197736.94</td>\n",
       "      <td>4</td>\n",
       "    </tr>\n",
       "    <tr>\n",
       "      <th>44</th>\n",
       "      <td>La Rochelle Gifts</td>\n",
       "      <td>180124.90</td>\n",
       "      <td>4</td>\n",
       "    </tr>\n",
       "  </tbody>\n",
       "</table>\n",
       "</div>"
      ],
      "text/plain": [
       "                    CUSTOMERNAME  TotalSales  NumOrders\n",
       "33         Euro Shopping Channel   912294.11         26\n",
       "55  Mini Gifts Distributors Ltd.   654858.06         17\n",
       "6     Australian Collectors, Co.   200995.41          5\n",
       "58            Muscle Machine Inc   197736.94          4\n",
       "44             La Rochelle Gifts   180124.90          4"
      ]
     },
     "execution_count": 28,
     "metadata": {},
     "output_type": "execute_result"
    }
   ],
   "source": [
    "(\n",
    "    sales\n",
    "    >> group_by(X.CUSTOMERNAME)\n",
    "    >> summarise(TotalSales=X.SALES.sum(),NumOrders=X.ORDERNUMBER.nunique())\n",
    "    >> ungroup()\n",
    "    >> arrange(X.TotalSales,ascending=False)\n",
    "    >> head(5)\n",
    ")"
   ]
  },
  {
   "cell_type": "markdown",
   "metadata": {},
   "source": [
    "# Analyze Profit Margins"
   ]
  },
  {
   "cell_type": "code",
   "execution_count": 29,
   "metadata": {},
   "outputs": [],
   "source": [
    "profitanalysis = (\n",
    "    sales \n",
    "    >> mutate(WHOLESALE=X.MSRP*0.30)\n",
    "    >> mutate(MARKUP=X.PRICEEACH-X.WHOLESALE)\n",
    "    >> mutate(PROFITMARGIN=X.MARKUP/X.PRICEEACH)\n",
    "    >> select(X.CUSTOMERNAME,X.COUNTRY,X.PRODUCTLINE,X.YEAR_ID,X.PROFITMARGIN)\n",
    ")"
   ]
  },
  {
   "cell_type": "markdown",
   "metadata": {},
   "source": [
    "## Profit Margin by Product Line"
   ]
  },
  {
   "cell_type": "code",
   "execution_count": 30,
   "metadata": {},
   "outputs": [
    {
     "data": {
      "text/html": [
       "<div>\n",
       "<style scoped>\n",
       "    .dataframe tbody tr th:only-of-type {\n",
       "        vertical-align: middle;\n",
       "    }\n",
       "\n",
       "    .dataframe tbody tr th {\n",
       "        vertical-align: top;\n",
       "    }\n",
       "\n",
       "    .dataframe thead th {\n",
       "        text-align: right;\n",
       "    }\n",
       "</style>\n",
       "<table border=\"1\" class=\"dataframe\">\n",
       "  <thead>\n",
       "    <tr style=\"text-align: right;\">\n",
       "      <th></th>\n",
       "      <th>PRODUCTLINE</th>\n",
       "      <th>PROFITMARGIN_mean</th>\n",
       "      <th>PROFITMARGIN_sd</th>\n",
       "    </tr>\n",
       "  </thead>\n",
       "  <tbody>\n",
       "    <tr>\n",
       "      <th>4</th>\n",
       "      <td>Trains</td>\n",
       "      <td>0.703222</td>\n",
       "      <td>0.056959</td>\n",
       "    </tr>\n",
       "    <tr>\n",
       "      <th>3</th>\n",
       "      <td>Ships</td>\n",
       "      <td>0.688459</td>\n",
       "      <td>0.060208</td>\n",
       "    </tr>\n",
       "    <tr>\n",
       "      <th>2</th>\n",
       "      <td>Planes</td>\n",
       "      <td>0.672821</td>\n",
       "      <td>0.083108</td>\n",
       "    </tr>\n",
       "    <tr>\n",
       "      <th>6</th>\n",
       "      <td>Vintage Cars</td>\n",
       "      <td>0.667422</td>\n",
       "      <td>0.098093</td>\n",
       "    </tr>\n",
       "    <tr>\n",
       "      <th>1</th>\n",
       "      <td>Motorcycles</td>\n",
       "      <td>0.650976</td>\n",
       "      <td>0.102835</td>\n",
       "    </tr>\n",
       "    <tr>\n",
       "      <th>5</th>\n",
       "      <td>Trucks and Buses</td>\n",
       "      <td>0.644982</td>\n",
       "      <td>0.095704</td>\n",
       "    </tr>\n",
       "    <tr>\n",
       "      <th>0</th>\n",
       "      <td>Classic Cars</td>\n",
       "      <td>0.591358</td>\n",
       "      <td>0.131760</td>\n",
       "    </tr>\n",
       "  </tbody>\n",
       "</table>\n",
       "</div>"
      ],
      "text/plain": [
       "        PRODUCTLINE  PROFITMARGIN_mean  PROFITMARGIN_sd\n",
       "4            Trains           0.703222         0.056959\n",
       "3             Ships           0.688459         0.060208\n",
       "2            Planes           0.672821         0.083108\n",
       "6      Vintage Cars           0.667422         0.098093\n",
       "1       Motorcycles           0.650976         0.102835\n",
       "5  Trucks and Buses           0.644982         0.095704\n",
       "0      Classic Cars           0.591358         0.131760"
      ]
     },
     "execution_count": 30,
     "metadata": {},
     "output_type": "execute_result"
    }
   ],
   "source": [
    "(\n",
    "    profitanalysis \n",
    "    >> group_by(X.PRODUCTLINE)\n",
    "    >> summarize(PROFITMARGIN_mean=X.PROFITMARGIN.mean(),\n",
    "                 PROFITMARGIN_sd=X.PROFITMARGIN.std())\n",
    "    >> ungroup()\n",
    "    >> arrange(X.PROFITMARGIN_mean,ascending=False)\n",
    ")"
   ]
  },
  {
   "cell_type": "code",
   "execution_count": 31,
   "metadata": {},
   "outputs": [
    {
     "data": {
      "image/png": "[encoded data removed]",
      "text/plain": [
       "<Figure size 1080x360 with 1 Axes>"
      ]
     },
     "metadata": {
      "needs_background": "light"
     },
     "output_type": "display_data"
    }
   ],
   "source": [
    "(\n",
    "    profitanalysis\n",
    "    >> select(X.PRODUCTLINE,X.PROFITMARGIN)\n",
    ").boxplot(by=\"PRODUCTLINE\",figsize=(15,5),rot=90);"
   ]
  },
  {
   "cell_type": "markdown",
   "metadata": {},
   "source": [
    "## Profit Margin over Time"
   ]
  },
  {
   "cell_type": "code",
   "execution_count": 34,
   "metadata": {},
   "outputs": [
    {
     "data": {
      "image/png": "[encoded data removed]",
      "text/plain": [
       "<Figure size 432x288 with 1 Axes>"
      ]
     },
     "metadata": {
      "needs_background": "light"
     },
     "output_type": "display_data"
    }
   ],
   "source": [
    "(\n",
    "    profitanalysis \n",
    "    >> group_by(X.YEAR_ID)\n",
    "    >> summarize(PROFITMARGIN_mean=X.PROFITMARGIN.mean())\n",
    "    >> ungroup()\n",
    ").plot.bar(x=\"YEAR_ID\",legend=False);"
   ]
  },
  {
   "cell_type": "markdown",
   "metadata": {
    "slideshow": {
     "slide_type": "slide"
    }
   },
   "source": [
    "# Sharing and Collaboration\n",
    "* Export and email it out to everybody (several formats available)\n",
    "* GitHub\n",
    "* JupyterHub\n",
    "* Azure Notebooks"
   ]
  },
  {
   "cell_type": "markdown",
   "metadata": {
    "slideshow": {
     "slide_type": "slide"
    }
   },
   "source": [
    "# Also Consider\n",
    "* JupiterLab - web-based IDE for notebooks - part of Anaconda\n",
    "* Azure Notebooks - free, cloud hosted Jupyter Notebook\n",
    "* R Notebooks in R Studio - in someways a better developer experience"
   ]
  },
  {
   "cell_type": "markdown",
   "metadata": {
    "slideshow": {
     "slide_type": "slide"
    }
   },
   "source": [
    "# Learn More\n",
    "* This notebook is available at Github - https://github.com/TySeddon/JupyterIntro\n",
    "* Download from anaconda.com\n",
    "* Visit jupyter.org for documentation\n",
    "* stackoverflow.com \n",
    "* Stephen Kung's talk will explore more advanced stuff (scripts and web apps)\n"
   ]
  },
  {
   "cell_type": "code",
   "execution_count": null,
   "metadata": {},
   "outputs": [],
   "source": []
  }
 ],
 "metadata": {
  "celltoolbar": "Slideshow",
  "kernelspec": {
   "display_name": "Python 3",
   "language": "python",
   "name": "python3"
  },
  "language_info": {
   "codemirror_mode": {
    "name": "ipython",
    "version": 3
   },
   "file_extension": ".py",
   "mimetype": "text/x-python",
   "name": "python",
   "nbconvert_exporter": "python",
   "pygments_lexer": "ipython3",
   "version": "3.7.1"
  }
 },
 "nbformat": 4,
 "nbformat_minor": 2
}

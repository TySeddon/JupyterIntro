{
 "cells": [
  {
   "cell_type": "markdown",
   "metadata": {
    "slideshow": {
     "slide_type": "slide"
    }
   },
   "source": [
    "<h1 style=\"font-size:50px;\">Intro to Jupyter Notebooks</h1>\n",
    "\n",
    "<img style=\"margin-left:0px\" src=\"https://cdn.shortpixel.ai/client/to_webp,q_glossy,ret_img/https://www.dataquest.io/wp-content/uploads/2019/01/1-LPnY8nOLg4S6_TG0DEXwsg-1.png\" width=700/>\n",
    "\n",
    "<div style=\"margin-top:50px;margin-left:500px;\">\n",
    "    <h2 style=\"font-size:25px;\">Ty Seddon - AI solutions architect</h2>\n",
    "    <img style=\"margin-left:80px\" src=\"http://www.cognivista.com/Media/Default/Images/CogniVista-Medium.png\" width=80 height=80>\n",
    "    <img style=\"margin-left:50px\" src=\"http://www.cognivista.com/Media/Default/Images/CogniVista-Text.png\">\n",
    "</div>"
   ]
  },
  {
   "cell_type": "markdown",
   "metadata": {
    "slideshow": {
     "slide_type": "slide"
    }
   },
   "source": [
    "# Intro to Jupyter Notebooks\n",
    "* Web-based Interactive Environment (as opposed to an IDE)\n",
    "* Weaves code, output, and text together into a single document\n",
    "* Supports over 40 programming languages (Python, R, F#, Julia, Scala, etc)"
   ]
  },
  {
   "cell_type": "code",
   "execution_count": 1,
   "metadata": {
    "slideshow": {
     "slide_type": "-"
    }
   },
   "outputs": [
    {
     "name": "stdout",
     "output_type": "stream",
     "text": [
      "Hello World\n"
     ]
    }
   ],
   "source": [
    "# A notebook is a collection of \"cells\"\n",
    "# This is a CODE cell.  A cell has an Input (In) and Output (Out) sections \n",
    "# Input includes your code (Python in this case)\n",
    "\n",
    "# Some Code\n",
    "print(\"Hello World\")\n",
    "\n",
    "# Followed by its output"
   ]
  },
  {
   "cell_type": "code",
   "execution_count": 2,
   "metadata": {
    "slideshow": {
     "slide_type": "-"
    }
   },
   "outputs": [
    {
     "name": "stdout",
     "output_type": "stream",
     "text": [
      "0\n",
      "1\n",
      "2\n",
      "3\n",
      "4\n"
     ]
    }
   ],
   "source": [
    "# Anything you can do in Python, you can do in Jupyter Notebooks\n",
    "for i in range(5): \n",
    "    print(i)"
   ]
  },
  {
   "cell_type": "markdown",
   "metadata": {
    "slideshow": {
     "slide_type": "slide"
    }
   },
   "source": [
    "# Interact with the OS"
   ]
  },
  {
   "cell_type": "code",
   "execution_count": 3,
   "metadata": {
    "slideshow": {
     "slide_type": "slide"
    }
   },
   "outputs": [],
   "source": [
    "import os"
   ]
  },
  {
   "cell_type": "code",
   "execution_count": 4,
   "metadata": {},
   "outputs": [
    {
     "data": {
      "text/plain": [
       "'C:\\\\Users\\\\tysed'"
      ]
     },
     "execution_count": 4,
     "metadata": {},
     "output_type": "execute_result"
    }
   ],
   "source": [
    "os.getcwd()"
   ]
  },
  {
   "cell_type": "code",
   "execution_count": 5,
   "metadata": {},
   "outputs": [
    {
     "data": {
      "text/plain": [
       "['AlternateCalcs',\n",
       " 'Company1',\n",
       " 'DataScience',\n",
       " 'Graphics',\n",
       " 'Hackathon2019',\n",
       " 'OptionsExperiment',\n",
       " 'sales_data_sample.csv',\n",
       " 'Schwab Data Delivery']"
      ]
     },
     "execution_count": 5,
     "metadata": {},
     "output_type": "execute_result"
    }
   ],
   "source": [
    "os.listdir(\"c:\\\\Data\")"
   ]
  },
  {
   "cell_type": "markdown",
   "metadata": {
    "slideshow": {
     "slide_type": "slide"
    }
   },
   "source": [
    "# Define and Use Functions"
   ]
  },
  {
   "cell_type": "code",
   "execution_count": 6,
   "metadata": {
    "slideshow": {
     "slide_type": "slide"
    }
   },
   "outputs": [],
   "source": [
    "def printhello(o):\n",
    "    print(\"hello\",o)"
   ]
  },
  {
   "cell_type": "code",
   "execution_count": 12,
   "metadata": {},
   "outputs": [
    {
     "name": "stdout",
     "output_type": "stream",
     "text": [
      "hello asheville\n",
      "hello y'all\n"
     ]
    }
   ],
   "source": [
    "printhello(\"asheville\")\n",
    "printhello(\"y'all\")\n",
    "# you can have multiple commands per cell"
   ]
  },
  {
   "cell_type": "markdown",
   "metadata": {},
   "source": [
    "# Visualizations"
   ]
  },
  {
   "cell_type": "code",
   "execution_count": 8,
   "metadata": {
    "slideshow": {
     "slide_type": "slide"
    }
   },
   "outputs": [],
   "source": [
    "import numpy as np\n",
    "import matplotlib.pyplot as plt\n",
    "%matplotlib inline"
   ]
  },
  {
   "cell_type": "code",
   "execution_count": 42,
   "metadata": {},
   "outputs": [
    {
     "data": {
      "image/png": "[encoded data removed]",
      "text/plain": [
       "<Figure size 432x288 with 1 Axes>"
      ]
     },
     "metadata": {
      "needs_background": "light"
     },
     "output_type": "display_data"
    }
   ],
   "source": [
    "plt.hist(np.random.normal(size=1000),bins=30);"
   ]
  },
  {
   "cell_type": "markdown",
   "metadata": {
    "slideshow": {
     "slide_type": "slide"
    }
   },
   "source": [
    "# Shell Commands\n",
    "* Starts with !\n",
    "* Don't do use them unless you have no other choice\n",
    "* Use Python libraries instead"
   ]
  },
  {
   "cell_type": "code",
   "execution_count": 10,
   "metadata": {},
   "outputs": [
    {
     "name": "stdout",
     "output_type": "stream",
     "text": [
      " Volume in drive C is Local Disk\n",
      " Volume Serial Number is 8471-B1A1\n",
      "\n",
      " Directory of C:\\Users\\tysed\n",
      "\n",
      "07/10/2019  11:01 AM    <DIR>          .\n",
      "07/10/2019  11:01 AM    <DIR>          ..\n",
      "12/30/2018  12:13 AM    <DIR>          .anaconda\n",
      "03/27/2019  11:42 AM                48 .bash_history\n",
      "07/10/2019  11:01 AM    <DIR>          .conda\n",
      "07/10/2019  08:28 AM                43 .condarc\n",
      "03/22/2019  11:38 AM    <DIR>          .config\n",
      "02/25/2019  02:18 PM             1,038 .csslintrc\n",
      "03/27/2019  07:32 AM    <DIR>          .dotnet\n",
      "02/25/2019  12:45 PM             1,697 .eslintrc\n",
      "03/30/2019  09:12 PM    <DIR>          .gissjava\n",
      "03/27/2019  11:40 AM               221 .gitconfig\n",
      "07/09/2019  10:10 PM    <DIR>          .ipynb_checkpoints\n",
      "12/30/2018  12:14 AM    <DIR>          .ipython\n",
      "07/09/2019  10:31 AM    <DIR>          .jupyter\n",
      "03/26/2019  12:12 PM    <DIR>          .local\n",
      "03/17/2019  10:59 AM    <DIR>          .matplotlib\n",
      "12/30/2018  12:36 AM    <DIR>          .nuget\n",
      "03/30/2019  08:01 PM    <DIR>          .pylint.d\n",
      "03/17/2019  08:13 PM    <DIR>          .spyder-py3\n",
      "03/19/2019  01:46 PM    <DIR>          .unidata\n",
      "12/29/2018  10:58 PM    <DIR>          .vscode\n",
      "03/22/2019  01:24 PM    <DIR>          .xarray_tutorial_data\n",
      "06/17/2019  05:45 PM    <DIR>          3D Objects\n",
      "03/30/2019  07:40 PM    <DIR>          Anaconda3\n",
      "03/21/2019  02:13 PM    <DIR>          Apple\n",
      "02/25/2019  02:18 PM             2,868 coffeelint.json\n",
      "07/10/2019  12:13 AM           104,950 Company1-Prelmin_Annual_SI.ipynb\n",
      "06/17/2019  05:45 PM    <DIR>          Contacts\n",
      "07/10/2019  08:10 AM    <DIR>          Creative Cloud Files\n",
      "06/17/2019  05:45 PM    <DIR>          Desktop\n",
      "12/29/2018  11:07 AM    <DIR>          Documents\n",
      "07/10/2019  09:01 AM    <DIR>          Downloads\n",
      "12/29/2018  08:16 PM    <DIR>          Dropbox\n",
      "06/17/2019  05:45 PM    <DIR>          Favorites\n",
      "07/10/2019  11:01 AM           202,085 Intro.ipynb\n",
      "06/17/2019  05:45 PM    <DIR>          Links\n",
      "06/17/2019  05:45 PM    <DIR>          Music\n",
      "07/10/2019  08:10 AM    <DIR>          OneDrive\n",
      "06/17/2019  05:45 PM    <DIR>          Saved Games\n",
      "06/17/2019  05:45 PM    <DIR>          Searches\n",
      "12/29/2018  11:55 PM    <DIR>          Source\n",
      "12/30/2018  12:16 AM             2,274 Untitled.ipynb\n",
      "03/22/2019  01:14 PM            18,256 Untitled1.ipynb\n",
      "07/09/2019  10:12 PM             2,101 Untitled2.ipynb\n",
      "06/17/2019  05:45 PM    <DIR>          Videos\n",
      "              11 File(s)        335,581 bytes\n",
      "              35 Dir(s)  332,389,244,928 bytes free\n"
     ]
    }
   ],
   "source": [
    "!dir"
   ]
  },
  {
   "cell_type": "markdown",
   "metadata": {
    "slideshow": {
     "slide_type": "slide"
    }
   },
   "source": [
    "# Installation\n",
    "* jupyter.org\n",
    "* anaconda.com <strong>(Recommended)</strong>"
   ]
  },
  {
   "cell_type": "markdown",
   "metadata": {
    "slideshow": {
     "slide_type": "slide"
    }
   },
   "source": [
    "# Running on Server\n",
    "* Use server resources (CPU, disk, database, etc)\n",
    "  * Laptop, Server, Cloud, or Supercomputer\n",
    "* Anybody can run shell commands on your server <strong>(Security Risk)</strong>\n",
    "* Not multi-user by default\n",
    "  * Multiple users can run their own notebooks\n",
    "  * No isolation between users\n",
    "      * They share all resources and can potentially overwrite each other's work (e.g. files)\n",
    "      * They can see each other's notebooks\n",
    "* See JupyterHub for collaborative notebooks"
   ]
  },
  {
   "cell_type": "markdown",
   "metadata": {
    "slideshow": {
     "slide_type": "slide"
    }
   },
   "source": [
    "# Use Cases\n",
    "* Highly interactive iterations\n",
    "* Isolated problems\n",
    "* Data analysis\n",
    "* Teaching/Learning\n",
    "* Experimentation\n",
    "* Sharing Reports\n",
    "* Dashboards (Widgets)"
   ]
  },
  {
   "cell_type": "markdown",
   "metadata": {
    "slideshow": {
     "slide_type": "slide"
    }
   },
   "source": [
    "# Benefits\n",
    "* Transparency\n",
    "    * How'd you get that answer?\n",
    "* Reproducibility\n",
    "    * I want to try it myself\n",
    "* Collaboration\n",
    "    * Let's figure this out together"
   ]
  },
  {
   "cell_type": "markdown",
   "metadata": {
    "slideshow": {
     "slide_type": "slide"
    }
   },
   "source": [
    "# Consumers\n",
    "Many times, notebooks are just for you to quickly experiment with some coding ideas.\n",
    "\n",
    "Other times, you are creating output for a specific reason for a specific audience\n",
    "* Your boss\n",
    "* Subject Matter Expert (SME)\n",
    "* Peer Review (academic, QA team)\n",
    "* Students/Teachers"
   ]
  },
  {
   "cell_type": "markdown",
   "metadata": {
    "slideshow": {
     "slide_type": "slide"
    }
   },
   "source": [
    "# Best Practices\n",
    "When starting a new notebook, think about:\n",
    "* Agility\n",
    "  * Keep things simple so you can iterate quickly\n",
    "  * Don't over-engineer\n",
    "\n",
    "If you are producing notebook for others to consume, think about:\n",
    "* Readability\n",
    "    * People actually see this stuff\n",
    "* Documentation\n",
    "    * It is a document, so document!\n",
    "* Code Organization\n",
    "    * Interactive nature leads to disorganization very quickly\n",
    "    * Clean up your code frequently"
   ]
  },
  {
   "cell_type": "markdown",
   "metadata": {
    "slideshow": {
     "slide_type": "slide"
    }
   },
   "source": [
    "# Magic Commands\n",
    "* Prefixed with %\n",
    "* In general, I don't use them unless there's no other choice.\n",
    "* These are one's I use most often\n",
    "  * %lsmagic - list available magic commands\n",
    "  * %load or %run - executes code in Python files \n",
    "  * %matplotlib inline - shows plots in the notebook\n"
   ]
  },
  {
   "cell_type": "code",
   "execution_count": 11,
   "metadata": {
    "scrolled": false
   },
   "outputs": [
    {
     "data": {
      "application/json": {
       "cell": {
        "!": "OSMagics",
        "HTML": "Other",
        "SVG": "Other",
        "bash": "Other",
        "capture": "ExecutionMagics",
        "cmd": "Other",
        "debug": "ExecutionMagics",
        "file": "Other",
        "html": "DisplayMagics",
        "javascript": "DisplayMagics",
        "js": "DisplayMagics",
        "latex": "DisplayMagics",
        "markdown": "DisplayMagics",
        "perl": "Other",
        "prun": "ExecutionMagics",
        "pypy": "Other",
        "python": "Other",
        "python2": "Other",
        "python3": "Other",
        "ruby": "Other",
        "script": "ScriptMagics",
        "sh": "Other",
        "svg": "DisplayMagics",
        "sx": "OSMagics",
        "system": "OSMagics",
        "time": "ExecutionMagics",
        "timeit": "ExecutionMagics",
        "writefile": "OSMagics"
       },
       "line": {
        "alias": "OSMagics",
        "alias_magic": "BasicMagics",
        "autoawait": "AsyncMagics",
        "autocall": "AutoMagics",
        "automagic": "AutoMagics",
        "autosave": "KernelMagics",
        "bookmark": "OSMagics",
        "cd": "OSMagics",
        "clear": "KernelMagics",
        "cls": "KernelMagics",
        "colors": "BasicMagics",
        "conda": "PackagingMagics",
        "config": "ConfigMagics",
        "connect_info": "KernelMagics",
        "copy": "Other",
        "ddir": "Other",
        "debug": "ExecutionMagics",
        "dhist": "OSMagics",
        "dirs": "OSMagics",
        "doctest_mode": "BasicMagics",
        "echo": "Other",
        "ed": "Other",
        "edit": "KernelMagics",
        "env": "OSMagics",
        "gui": "BasicMagics",
        "hist": "Other",
        "history": "HistoryMagics",
        "killbgscripts": "ScriptMagics",
        "ldir": "Other",
        "less": "KernelMagics",
        "load": "CodeMagics",
        "load_ext": "ExtensionMagics",
        "loadpy": "CodeMagics",
        "logoff": "LoggingMagics",
        "logon": "LoggingMagics",
        "logstart": "LoggingMagics",
        "logstate": "LoggingMagics",
        "logstop": "LoggingMagics",
        "ls": "Other",
        "lsmagic": "BasicMagics",
        "macro": "ExecutionMagics",
        "magic": "BasicMagics",
        "matplotlib": "PylabMagics",
        "mkdir": "Other",
        "more": "KernelMagics",
        "notebook": "BasicMagics",
        "page": "BasicMagics",
        "pastebin": "CodeMagics",
        "pdb": "ExecutionMagics",
        "pdef": "NamespaceMagics",
        "pdoc": "NamespaceMagics",
        "pfile": "NamespaceMagics",
        "pinfo": "NamespaceMagics",
        "pinfo2": "NamespaceMagics",
        "pip": "PackagingMagics",
        "popd": "OSMagics",
        "pprint": "BasicMagics",
        "precision": "BasicMagics",
        "prun": "ExecutionMagics",
        "psearch": "NamespaceMagics",
        "psource": "NamespaceMagics",
        "pushd": "OSMagics",
        "pwd": "OSMagics",
        "pycat": "OSMagics",
        "pylab": "PylabMagics",
        "qtconsole": "KernelMagics",
        "quickref": "BasicMagics",
        "recall": "HistoryMagics",
        "rehashx": "OSMagics",
        "reload_ext": "ExtensionMagics",
        "ren": "Other",
        "rep": "Other",
        "rerun": "HistoryMagics",
        "reset": "NamespaceMagics",
        "reset_selective": "NamespaceMagics",
        "rmdir": "Other",
        "run": "ExecutionMagics",
        "save": "CodeMagics",
        "sc": "OSMagics",
        "set_env": "OSMagics",
        "store": "StoreMagics",
        "sx": "OSMagics",
        "system": "OSMagics",
        "tb": "ExecutionMagics",
        "time": "ExecutionMagics",
        "timeit": "ExecutionMagics",
        "unalias": "OSMagics",
        "unload_ext": "ExtensionMagics",
        "who": "NamespaceMagics",
        "who_ls": "NamespaceMagics",
        "whos": "NamespaceMagics",
        "xdel": "NamespaceMagics",
        "xmode": "BasicMagics"
       }
      },
      "text/plain": [
       "Available line magics:\n",
       "%alias  %alias_magic  %autoawait  %autocall  %automagic  %autosave  %bookmark  %cd  %clear  %cls  %colors  %conda  %config  %connect_info  %copy  %ddir  %debug  %dhist  %dirs  %doctest_mode  %echo  %ed  %edit  %env  %gui  %hist  %history  %killbgscripts  %ldir  %less  %load  %load_ext  %loadpy  %logoff  %logon  %logstart  %logstate  %logstop  %ls  %lsmagic  %macro  %magic  %matplotlib  %mkdir  %more  %notebook  %page  %pastebin  %pdb  %pdef  %pdoc  %pfile  %pinfo  %pinfo2  %pip  %popd  %pprint  %precision  %prun  %psearch  %psource  %pushd  %pwd  %pycat  %pylab  %qtconsole  %quickref  %recall  %rehashx  %reload_ext  %ren  %rep  %rerun  %reset  %reset_selective  %rmdir  %run  %save  %sc  %set_env  %store  %sx  %system  %tb  %time  %timeit  %unalias  %unload_ext  %who  %who_ls  %whos  %xdel  %xmode\n",
       "\n",
       "Available cell magics:\n",
       "%%!  %%HTML  %%SVG  %%bash  %%capture  %%cmd  %%debug  %%file  %%html  %%javascript  %%js  %%latex  %%markdown  %%perl  %%prun  %%pypy  %%python  %%python2  %%python3  %%ruby  %%script  %%sh  %%svg  %%sx  %%system  %%time  %%timeit  %%writefile\n",
       "\n",
       "Automagic is ON, % prefix IS NOT needed for line magics."
      ]
     },
     "execution_count": 11,
     "metadata": {},
     "output_type": "execute_result"
    }
   ],
   "source": [
    "%lsmagic"
   ]
  },
  {
   "cell_type": "markdown",
   "metadata": {
    "slideshow": {
     "slide_type": "slide"
    }
   },
   "source": [
    "# Analyze sales data\n",
    "1. Read data\n",
    "1. Understand contents and structure\n",
    "1. Iteratively ask questions of data\n",
    "1. Share findings <strong>AND METHODOLOGY</strong>"
   ]
  },
  {
   "cell_type": "markdown",
   "metadata": {},
   "source": [
    "# Read Files"
   ]
  },
  {
   "cell_type": "code",
   "execution_count": 22,
   "metadata": {},
   "outputs": [],
   "source": [
    "import pandas as pd\n",
    "from pathlib import Path"
   ]
  },
  {
   "cell_type": "code",
   "execution_count": 23,
   "metadata": {},
   "outputs": [],
   "source": [
    "# load data from disk\n",
    "path = Path(\"C:/Data/sales_data_sample.csv\")\n",
    "df = pd.read_csv(path, sep=\",\",encoding = 'unicode_escape')"
   ]
  },
  {
   "cell_type": "markdown",
   "metadata": {},
   "source": [
    "# Explore Data"
   ]
  },
  {
   "cell_type": "code",
   "execution_count": 27,
   "metadata": {},
   "outputs": [
    {
     "data": {
      "text/html": [
       "<div>\n",
       "<style scoped>\n",
       "    .dataframe tbody tr th:only-of-type {\n",
       "        vertical-align: middle;\n",
       "    }\n",
       "\n",
       "    .dataframe tbody tr th {\n",
       "        vertical-align: top;\n",
       "    }\n",
       "\n",
       "    .dataframe thead th {\n",
       "        text-align: right;\n",
       "    }\n",
       "</style>\n",
       "<table border=\"1\" class=\"dataframe\">\n",
       "  <thead>\n",
       "    <tr style=\"text-align: right;\">\n",
       "      <th></th>\n",
       "      <th>ORDERNUMBER</th>\n",
       "      <th>QUANTITYORDERED</th>\n",
       "      <th>PRICEEACH</th>\n",
       "      <th>ORDERLINENUMBER</th>\n",
       "      <th>SALES</th>\n",
       "      <th>ORDERDATE</th>\n",
       "      <th>STATUS</th>\n",
       "      <th>QTR_ID</th>\n",
       "      <th>MONTH_ID</th>\n",
       "      <th>YEAR_ID</th>\n",
       "      <th>...</th>\n",
       "      <th>ADDRESSLINE1</th>\n",
       "      <th>ADDRESSLINE2</th>\n",
       "      <th>CITY</th>\n",
       "      <th>STATE</th>\n",
       "      <th>POSTALCODE</th>\n",
       "      <th>COUNTRY</th>\n",
       "      <th>TERRITORY</th>\n",
       "      <th>CONTACTLASTNAME</th>\n",
       "      <th>CONTACTFIRSTNAME</th>\n",
       "      <th>DEALSIZE</th>\n",
       "    </tr>\n",
       "  </thead>\n",
       "  <tbody>\n",
       "    <tr>\n",
       "      <th>0</th>\n",
       "      <td>10107</td>\n",
       "      <td>30</td>\n",
       "      <td>95.70</td>\n",
       "      <td>2</td>\n",
       "      <td>2871.00</td>\n",
       "      <td>2/24/2003 0:00</td>\n",
       "      <td>Shipped</td>\n",
       "      <td>1</td>\n",
       "      <td>2</td>\n",
       "      <td>2003</td>\n",
       "      <td>...</td>\n",
       "      <td>897 Long Airport Avenue</td>\n",
       "      <td>NaN</td>\n",
       "      <td>NYC</td>\n",
       "      <td>NY</td>\n",
       "      <td>10022</td>\n",
       "      <td>USA</td>\n",
       "      <td>NaN</td>\n",
       "      <td>Yu</td>\n",
       "      <td>Kwai</td>\n",
       "      <td>Small</td>\n",
       "    </tr>\n",
       "    <tr>\n",
       "      <th>1</th>\n",
       "      <td>10121</td>\n",
       "      <td>34</td>\n",
       "      <td>81.35</td>\n",
       "      <td>5</td>\n",
       "      <td>2765.90</td>\n",
       "      <td>5/7/2003 0:00</td>\n",
       "      <td>Shipped</td>\n",
       "      <td>2</td>\n",
       "      <td>5</td>\n",
       "      <td>2003</td>\n",
       "      <td>...</td>\n",
       "      <td>59 rue de l'Abbaye</td>\n",
       "      <td>NaN</td>\n",
       "      <td>Reims</td>\n",
       "      <td>NaN</td>\n",
       "      <td>51100</td>\n",
       "      <td>France</td>\n",
       "      <td>EMEA</td>\n",
       "      <td>Henriot</td>\n",
       "      <td>Paul</td>\n",
       "      <td>Small</td>\n",
       "    </tr>\n",
       "    <tr>\n",
       "      <th>2</th>\n",
       "      <td>10134</td>\n",
       "      <td>41</td>\n",
       "      <td>94.74</td>\n",
       "      <td>2</td>\n",
       "      <td>3884.34</td>\n",
       "      <td>7/1/2003 0:00</td>\n",
       "      <td>Shipped</td>\n",
       "      <td>3</td>\n",
       "      <td>7</td>\n",
       "      <td>2003</td>\n",
       "      <td>...</td>\n",
       "      <td>27 rue du Colonel Pierre Avia</td>\n",
       "      <td>NaN</td>\n",
       "      <td>Paris</td>\n",
       "      <td>NaN</td>\n",
       "      <td>75508</td>\n",
       "      <td>France</td>\n",
       "      <td>EMEA</td>\n",
       "      <td>Da Cunha</td>\n",
       "      <td>Daniel</td>\n",
       "      <td>Medium</td>\n",
       "    </tr>\n",
       "    <tr>\n",
       "      <th>3</th>\n",
       "      <td>10145</td>\n",
       "      <td>45</td>\n",
       "      <td>83.26</td>\n",
       "      <td>6</td>\n",
       "      <td>3746.70</td>\n",
       "      <td>8/25/2003 0:00</td>\n",
       "      <td>Shipped</td>\n",
       "      <td>3</td>\n",
       "      <td>8</td>\n",
       "      <td>2003</td>\n",
       "      <td>...</td>\n",
       "      <td>78934 Hillside Dr.</td>\n",
       "      <td>NaN</td>\n",
       "      <td>Pasadena</td>\n",
       "      <td>CA</td>\n",
       "      <td>90003</td>\n",
       "      <td>USA</td>\n",
       "      <td>NaN</td>\n",
       "      <td>Young</td>\n",
       "      <td>Julie</td>\n",
       "      <td>Medium</td>\n",
       "    </tr>\n",
       "    <tr>\n",
       "      <th>4</th>\n",
       "      <td>10159</td>\n",
       "      <td>49</td>\n",
       "      <td>100.00</td>\n",
       "      <td>14</td>\n",
       "      <td>5205.27</td>\n",
       "      <td>10/10/2003 0:00</td>\n",
       "      <td>Shipped</td>\n",
       "      <td>4</td>\n",
       "      <td>10</td>\n",
       "      <td>2003</td>\n",
       "      <td>...</td>\n",
       "      <td>7734 Strong St.</td>\n",
       "      <td>NaN</td>\n",
       "      <td>San Francisco</td>\n",
       "      <td>CA</td>\n",
       "      <td>NaN</td>\n",
       "      <td>USA</td>\n",
       "      <td>NaN</td>\n",
       "      <td>Brown</td>\n",
       "      <td>Julie</td>\n",
       "      <td>Medium</td>\n",
       "    </tr>\n",
       "    <tr>\n",
       "      <th>5</th>\n",
       "      <td>10168</td>\n",
       "      <td>36</td>\n",
       "      <td>96.66</td>\n",
       "      <td>1</td>\n",
       "      <td>3479.76</td>\n",
       "      <td>10/28/2003 0:00</td>\n",
       "      <td>Shipped</td>\n",
       "      <td>4</td>\n",
       "      <td>10</td>\n",
       "      <td>2003</td>\n",
       "      <td>...</td>\n",
       "      <td>9408 Furth Circle</td>\n",
       "      <td>NaN</td>\n",
       "      <td>Burlingame</td>\n",
       "      <td>CA</td>\n",
       "      <td>94217</td>\n",
       "      <td>USA</td>\n",
       "      <td>NaN</td>\n",
       "      <td>Hirano</td>\n",
       "      <td>Juri</td>\n",
       "      <td>Medium</td>\n",
       "    </tr>\n",
       "    <tr>\n",
       "      <th>6</th>\n",
       "      <td>10180</td>\n",
       "      <td>29</td>\n",
       "      <td>86.13</td>\n",
       "      <td>9</td>\n",
       "      <td>2497.77</td>\n",
       "      <td>11/11/2003 0:00</td>\n",
       "      <td>Shipped</td>\n",
       "      <td>4</td>\n",
       "      <td>11</td>\n",
       "      <td>2003</td>\n",
       "      <td>...</td>\n",
       "      <td>184, chausse de Tournai</td>\n",
       "      <td>NaN</td>\n",
       "      <td>Lille</td>\n",
       "      <td>NaN</td>\n",
       "      <td>59000</td>\n",
       "      <td>France</td>\n",
       "      <td>EMEA</td>\n",
       "      <td>Rance</td>\n",
       "      <td>Martine</td>\n",
       "      <td>Small</td>\n",
       "    </tr>\n",
       "    <tr>\n",
       "      <th>7</th>\n",
       "      <td>10188</td>\n",
       "      <td>48</td>\n",
       "      <td>100.00</td>\n",
       "      <td>1</td>\n",
       "      <td>5512.32</td>\n",
       "      <td>11/18/2003 0:00</td>\n",
       "      <td>Shipped</td>\n",
       "      <td>4</td>\n",
       "      <td>11</td>\n",
       "      <td>2003</td>\n",
       "      <td>...</td>\n",
       "      <td>Drammen 121, PR 744 Sentrum</td>\n",
       "      <td>NaN</td>\n",
       "      <td>Bergen</td>\n",
       "      <td>NaN</td>\n",
       "      <td>N 5804</td>\n",
       "      <td>Norway</td>\n",
       "      <td>EMEA</td>\n",
       "      <td>Oeztan</td>\n",
       "      <td>Veysel</td>\n",
       "      <td>Medium</td>\n",
       "    </tr>\n",
       "    <tr>\n",
       "      <th>8</th>\n",
       "      <td>10201</td>\n",
       "      <td>22</td>\n",
       "      <td>98.57</td>\n",
       "      <td>2</td>\n",
       "      <td>2168.54</td>\n",
       "      <td>12/1/2003 0:00</td>\n",
       "      <td>Shipped</td>\n",
       "      <td>4</td>\n",
       "      <td>12</td>\n",
       "      <td>2003</td>\n",
       "      <td>...</td>\n",
       "      <td>5557 North Pendale Street</td>\n",
       "      <td>NaN</td>\n",
       "      <td>San Francisco</td>\n",
       "      <td>CA</td>\n",
       "      <td>NaN</td>\n",
       "      <td>USA</td>\n",
       "      <td>NaN</td>\n",
       "      <td>Murphy</td>\n",
       "      <td>Julie</td>\n",
       "      <td>Small</td>\n",
       "    </tr>\n",
       "    <tr>\n",
       "      <th>9</th>\n",
       "      <td>10211</td>\n",
       "      <td>41</td>\n",
       "      <td>100.00</td>\n",
       "      <td>14</td>\n",
       "      <td>4708.44</td>\n",
       "      <td>1/15/2004 0:00</td>\n",
       "      <td>Shipped</td>\n",
       "      <td>1</td>\n",
       "      <td>1</td>\n",
       "      <td>2004</td>\n",
       "      <td>...</td>\n",
       "      <td>25, rue Lauriston</td>\n",
       "      <td>NaN</td>\n",
       "      <td>Paris</td>\n",
       "      <td>NaN</td>\n",
       "      <td>75016</td>\n",
       "      <td>France</td>\n",
       "      <td>EMEA</td>\n",
       "      <td>Perrier</td>\n",
       "      <td>Dominique</td>\n",
       "      <td>Medium</td>\n",
       "    </tr>\n",
       "  </tbody>\n",
       "</table>\n",
       "<p>10 rows × 25 columns</p>\n",
       "</div>"
      ],
      "text/plain": [
       "   ORDERNUMBER  QUANTITYORDERED  PRICEEACH  ORDERLINENUMBER    SALES  \\\n",
       "0        10107               30      95.70                2  2871.00   \n",
       "1        10121               34      81.35                5  2765.90   \n",
       "2        10134               41      94.74                2  3884.34   \n",
       "3        10145               45      83.26                6  3746.70   \n",
       "4        10159               49     100.00               14  5205.27   \n",
       "5        10168               36      96.66                1  3479.76   \n",
       "6        10180               29      86.13                9  2497.77   \n",
       "7        10188               48     100.00                1  5512.32   \n",
       "8        10201               22      98.57                2  2168.54   \n",
       "9        10211               41     100.00               14  4708.44   \n",
       "\n",
       "         ORDERDATE   STATUS  QTR_ID  MONTH_ID  YEAR_ID   ...     \\\n",
       "0   2/24/2003 0:00  Shipped       1         2     2003   ...      \n",
       "1    5/7/2003 0:00  Shipped       2         5     2003   ...      \n",
       "2    7/1/2003 0:00  Shipped       3         7     2003   ...      \n",
       "3   8/25/2003 0:00  Shipped       3         8     2003   ...      \n",
       "4  10/10/2003 0:00  Shipped       4        10     2003   ...      \n",
       "5  10/28/2003 0:00  Shipped       4        10     2003   ...      \n",
       "6  11/11/2003 0:00  Shipped       4        11     2003   ...      \n",
       "7  11/18/2003 0:00  Shipped       4        11     2003   ...      \n",
       "8   12/1/2003 0:00  Shipped       4        12     2003   ...      \n",
       "9   1/15/2004 0:00  Shipped       1         1     2004   ...      \n",
       "\n",
       "                    ADDRESSLINE1  ADDRESSLINE2           CITY STATE  \\\n",
       "0        897 Long Airport Avenue           NaN            NYC    NY   \n",
       "1             59 rue de l'Abbaye           NaN          Reims   NaN   \n",
       "2  27 rue du Colonel Pierre Avia           NaN          Paris   NaN   \n",
       "3             78934 Hillside Dr.           NaN       Pasadena    CA   \n",
       "4                7734 Strong St.           NaN  San Francisco    CA   \n",
       "5              9408 Furth Circle           NaN     Burlingame    CA   \n",
       "6        184, chausse de Tournai           NaN          Lille   NaN   \n",
       "7    Drammen 121, PR 744 Sentrum           NaN         Bergen   NaN   \n",
       "8      5557 North Pendale Street           NaN  San Francisco    CA   \n",
       "9              25, rue Lauriston           NaN          Paris   NaN   \n",
       "\n",
       "  POSTALCODE COUNTRY TERRITORY CONTACTLASTNAME CONTACTFIRSTNAME DEALSIZE  \n",
       "0      10022     USA       NaN              Yu             Kwai    Small  \n",
       "1      51100  France      EMEA         Henriot             Paul    Small  \n",
       "2      75508  France      EMEA        Da Cunha           Daniel   Medium  \n",
       "3      90003     USA       NaN           Young            Julie   Medium  \n",
       "4        NaN     USA       NaN           Brown            Julie   Medium  \n",
       "5      94217     USA       NaN          Hirano             Juri   Medium  \n",
       "6      59000  France      EMEA           Rance          Martine    Small  \n",
       "7     N 5804  Norway      EMEA          Oeztan           Veysel   Medium  \n",
       "8        NaN     USA       NaN          Murphy            Julie    Small  \n",
       "9      75016  France      EMEA         Perrier        Dominique   Medium  \n",
       "\n",
       "[10 rows x 25 columns]"
      ]
     },
     "execution_count": 27,
     "metadata": {},
     "output_type": "execute_result"
    }
   ],
   "source": [
    "# View the first 10 records\n",
    "df.head(10)\n",
    "# auto creates an HTML table with styling"
   ]
  },
  {
   "cell_type": "code",
   "execution_count": 25,
   "metadata": {},
   "outputs": [
    {
     "name": "stdout",
     "output_type": "stream",
     "text": [
      "<class 'pandas.core.frame.DataFrame'>\n",
      "RangeIndex: 2823 entries, 0 to 2822\n",
      "Data columns (total 25 columns):\n",
      "ORDERNUMBER         2823 non-null int64\n",
      "QUANTITYORDERED     2823 non-null int64\n",
      "PRICEEACH           2823 non-null float64\n",
      "ORDERLINENUMBER     2823 non-null int64\n",
      "SALES               2823 non-null float64\n",
      "ORDERDATE           2823 non-null object\n",
      "STATUS              2823 non-null object\n",
      "QTR_ID              2823 non-null int64\n",
      "MONTH_ID            2823 non-null int64\n",
      "YEAR_ID             2823 non-null int64\n",
      "PRODUCTLINE         2823 non-null object\n",
      "MSRP                2823 non-null int64\n",
      "PRODUCTCODE         2823 non-null object\n",
      "CUSTOMERNAME        2823 non-null object\n",
      "PHONE               2823 non-null object\n",
      "ADDRESSLINE1        2823 non-null object\n",
      "ADDRESSLINE2        302 non-null object\n",
      "CITY                2823 non-null object\n",
      "STATE               1337 non-null object\n",
      "POSTALCODE          2747 non-null object\n",
      "COUNTRY             2823 non-null object\n",
      "TERRITORY           1749 non-null object\n",
      "CONTACTLASTNAME     2823 non-null object\n",
      "CONTACTFIRSTNAME    2823 non-null object\n",
      "DEALSIZE            2823 non-null object\n",
      "dtypes: float64(2), int64(7), object(16)\n",
      "memory usage: 551.4+ KB\n"
     ]
    }
   ],
   "source": [
    "# View Schema\n",
    "df.info()"
   ]
  },
  {
   "cell_type": "code",
   "execution_count": 26,
   "metadata": {},
   "outputs": [
    {
     "data": {
      "text/html": [
       "<div>\n",
       "<style scoped>\n",
       "    .dataframe tbody tr th:only-of-type {\n",
       "        vertical-align: middle;\n",
       "    }\n",
       "\n",
       "    .dataframe tbody tr th {\n",
       "        vertical-align: top;\n",
       "    }\n",
       "\n",
       "    .dataframe thead th {\n",
       "        text-align: right;\n",
       "    }\n",
       "</style>\n",
       "<table border=\"1\" class=\"dataframe\">\n",
       "  <thead>\n",
       "    <tr style=\"text-align: right;\">\n",
       "      <th></th>\n",
       "      <th>ORDERNUMBER</th>\n",
       "      <th>QUANTITYORDERED</th>\n",
       "      <th>PRICEEACH</th>\n",
       "      <th>ORDERLINENUMBER</th>\n",
       "      <th>SALES</th>\n",
       "      <th>QTR_ID</th>\n",
       "      <th>MONTH_ID</th>\n",
       "      <th>YEAR_ID</th>\n",
       "      <th>MSRP</th>\n",
       "    </tr>\n",
       "  </thead>\n",
       "  <tbody>\n",
       "    <tr>\n",
       "      <th>count</th>\n",
       "      <td>2823.000000</td>\n",
       "      <td>2823.000000</td>\n",
       "      <td>2823.000000</td>\n",
       "      <td>2823.000000</td>\n",
       "      <td>2823.000000</td>\n",
       "      <td>2823.000000</td>\n",
       "      <td>2823.000000</td>\n",
       "      <td>2823.00000</td>\n",
       "      <td>2823.000000</td>\n",
       "    </tr>\n",
       "    <tr>\n",
       "      <th>mean</th>\n",
       "      <td>10258.725115</td>\n",
       "      <td>35.092809</td>\n",
       "      <td>83.658544</td>\n",
       "      <td>6.466171</td>\n",
       "      <td>3553.889072</td>\n",
       "      <td>2.717676</td>\n",
       "      <td>7.092455</td>\n",
       "      <td>2003.81509</td>\n",
       "      <td>100.715551</td>\n",
       "    </tr>\n",
       "    <tr>\n",
       "      <th>std</th>\n",
       "      <td>92.085478</td>\n",
       "      <td>9.741443</td>\n",
       "      <td>20.174277</td>\n",
       "      <td>4.225841</td>\n",
       "      <td>1841.865106</td>\n",
       "      <td>1.203878</td>\n",
       "      <td>3.656633</td>\n",
       "      <td>0.69967</td>\n",
       "      <td>40.187912</td>\n",
       "    </tr>\n",
       "    <tr>\n",
       "      <th>min</th>\n",
       "      <td>10100.000000</td>\n",
       "      <td>6.000000</td>\n",
       "      <td>26.880000</td>\n",
       "      <td>1.000000</td>\n",
       "      <td>482.130000</td>\n",
       "      <td>1.000000</td>\n",
       "      <td>1.000000</td>\n",
       "      <td>2003.00000</td>\n",
       "      <td>33.000000</td>\n",
       "    </tr>\n",
       "    <tr>\n",
       "      <th>25%</th>\n",
       "      <td>10180.000000</td>\n",
       "      <td>27.000000</td>\n",
       "      <td>68.860000</td>\n",
       "      <td>3.000000</td>\n",
       "      <td>2203.430000</td>\n",
       "      <td>2.000000</td>\n",
       "      <td>4.000000</td>\n",
       "      <td>2003.00000</td>\n",
       "      <td>68.000000</td>\n",
       "    </tr>\n",
       "    <tr>\n",
       "      <th>50%</th>\n",
       "      <td>10262.000000</td>\n",
       "      <td>35.000000</td>\n",
       "      <td>95.700000</td>\n",
       "      <td>6.000000</td>\n",
       "      <td>3184.800000</td>\n",
       "      <td>3.000000</td>\n",
       "      <td>8.000000</td>\n",
       "      <td>2004.00000</td>\n",
       "      <td>99.000000</td>\n",
       "    </tr>\n",
       "    <tr>\n",
       "      <th>75%</th>\n",
       "      <td>10333.500000</td>\n",
       "      <td>43.000000</td>\n",
       "      <td>100.000000</td>\n",
       "      <td>9.000000</td>\n",
       "      <td>4508.000000</td>\n",
       "      <td>4.000000</td>\n",
       "      <td>11.000000</td>\n",
       "      <td>2004.00000</td>\n",
       "      <td>124.000000</td>\n",
       "    </tr>\n",
       "    <tr>\n",
       "      <th>max</th>\n",
       "      <td>10425.000000</td>\n",
       "      <td>97.000000</td>\n",
       "      <td>100.000000</td>\n",
       "      <td>18.000000</td>\n",
       "      <td>14082.800000</td>\n",
       "      <td>4.000000</td>\n",
       "      <td>12.000000</td>\n",
       "      <td>2005.00000</td>\n",
       "      <td>214.000000</td>\n",
       "    </tr>\n",
       "  </tbody>\n",
       "</table>\n",
       "</div>"
      ],
      "text/plain": [
       "        ORDERNUMBER  QUANTITYORDERED    PRICEEACH  ORDERLINENUMBER  \\\n",
       "count   2823.000000      2823.000000  2823.000000      2823.000000   \n",
       "mean   10258.725115        35.092809    83.658544         6.466171   \n",
       "std       92.085478         9.741443    20.174277         4.225841   \n",
       "min    10100.000000         6.000000    26.880000         1.000000   \n",
       "25%    10180.000000        27.000000    68.860000         3.000000   \n",
       "50%    10262.000000        35.000000    95.700000         6.000000   \n",
       "75%    10333.500000        43.000000   100.000000         9.000000   \n",
       "max    10425.000000        97.000000   100.000000        18.000000   \n",
       "\n",
       "              SALES       QTR_ID     MONTH_ID     YEAR_ID         MSRP  \n",
       "count   2823.000000  2823.000000  2823.000000  2823.00000  2823.000000  \n",
       "mean    3553.889072     2.717676     7.092455  2003.81509   100.715551  \n",
       "std     1841.865106     1.203878     3.656633     0.69967    40.187912  \n",
       "min      482.130000     1.000000     1.000000  2003.00000    33.000000  \n",
       "25%     2203.430000     2.000000     4.000000  2003.00000    68.000000  \n",
       "50%     3184.800000     3.000000     8.000000  2004.00000    99.000000  \n",
       "75%     4508.000000     4.000000    11.000000  2004.00000   124.000000  \n",
       "max    14082.800000     4.000000    12.000000  2005.00000   214.000000  "
      ]
     },
     "execution_count": 26,
     "metadata": {},
     "output_type": "execute_result"
    }
   ],
   "source": [
    "# View distribution of numeric data\n",
    "df.describe()"
   ]
  },
  {
   "cell_type": "code",
   "execution_count": 43,
   "metadata": {},
   "outputs": [
    {
     "data": {
      "text/plain": [
       "array(['S10_1678', 'S10_1949', 'S10_2016', 'S10_4698', 'S10_4757',\n",
       "       'S10_4962', 'S12_1099', 'S12_1108', 'S12_1666', 'S12_2823',\n",
       "       'S12_3148', 'S12_3380', 'S12_3891', 'S12_3990', 'S12_4473',\n",
       "       'S12_4675', 'S18_1097', 'S18_1129', 'S18_1342', 'S18_1367',\n",
       "       'S18_1589', 'S18_1662', 'S18_1749', 'S18_1889', 'S18_1984',\n",
       "       'S18_2238', 'S18_2248', 'S18_2319', 'S18_2325', 'S18_2432',\n",
       "       'S18_2581', 'S18_2625', 'S18_2795', 'S18_2870', 'S18_2949',\n",
       "       'S18_2957', 'S18_3029', 'S18_3136', 'S18_3140', 'S18_3232',\n",
       "       'S18_3259', 'S18_3278', 'S18_3320', 'S18_3482', 'S18_3685',\n",
       "       'S18_3782', 'S18_3856', 'S18_4027', 'S18_4409', 'S18_4522',\n",
       "       'S18_4600', 'S18_4668', 'S18_4721', 'S18_4933', 'S24_1046',\n",
       "       'S24_1444', 'S24_1578', 'S24_1628', 'S24_1785', 'S24_1937',\n",
       "       'S24_2000', 'S24_2011', 'S24_2022', 'S24_2300', 'S24_2360',\n",
       "       'S24_2766', 'S24_2840', 'S24_2841', 'S24_2887', 'S24_2972',\n",
       "       'S24_3151', 'S24_3191', 'S24_3371', 'S24_3420', 'S24_3432',\n",
       "       'S24_3816', 'S24_3856', 'S24_3949', 'S24_3969', 'S24_4048',\n",
       "       'S24_4258', 'S24_4278', 'S24_4620', 'S32_1268', 'S32_1374',\n",
       "       'S32_2206', 'S32_2509', 'S32_3207', 'S32_3522', 'S32_4289',\n",
       "       'S32_4485', 'S50_1341', 'S50_1392', 'S50_1514', 'S50_4713',\n",
       "       'S700_1138', 'S700_1691', 'S700_1938', 'S700_2047', 'S700_2466',\n",
       "       'S700_2610', 'S700_2824', 'S700_2834', 'S700_3167', 'S700_3505',\n",
       "       'S700_3962', 'S700_4002', 'S72_1253', 'S72_3212'], dtype=object)"
      ]
     },
     "execution_count": 43,
     "metadata": {},
     "output_type": "execute_result"
    }
   ],
   "source": [
    "# show unique product codes\n",
    "df[\"PRODUCTCODE\"].unique()"
   ]
  },
  {
   "cell_type": "markdown",
   "metadata": {},
   "source": [
    "## Show me a single product"
   ]
  },
  {
   "cell_type": "code",
   "execution_count": 44,
   "metadata": {},
   "outputs": [
    {
     "data": {
      "text/html": [
       "<div>\n",
       "<style scoped>\n",
       "    .dataframe tbody tr th:only-of-type {\n",
       "        vertical-align: middle;\n",
       "    }\n",
       "\n",
       "    .dataframe tbody tr th {\n",
       "        vertical-align: top;\n",
       "    }\n",
       "\n",
       "    .dataframe thead th {\n",
       "        text-align: right;\n",
       "    }\n",
       "</style>\n",
       "<table border=\"1\" class=\"dataframe\">\n",
       "  <thead>\n",
       "    <tr style=\"text-align: right;\">\n",
       "      <th></th>\n",
       "      <th>ORDERNUMBER</th>\n",
       "      <th>QUANTITYORDERED</th>\n",
       "      <th>PRICEEACH</th>\n",
       "      <th>ORDERLINENUMBER</th>\n",
       "      <th>SALES</th>\n",
       "      <th>ORDERDATE</th>\n",
       "      <th>STATUS</th>\n",
       "      <th>QTR_ID</th>\n",
       "      <th>MONTH_ID</th>\n",
       "      <th>YEAR_ID</th>\n",
       "      <th>...</th>\n",
       "      <th>ADDRESSLINE1</th>\n",
       "      <th>ADDRESSLINE2</th>\n",
       "      <th>CITY</th>\n",
       "      <th>STATE</th>\n",
       "      <th>POSTALCODE</th>\n",
       "      <th>COUNTRY</th>\n",
       "      <th>TERRITORY</th>\n",
       "      <th>CONTACTLASTNAME</th>\n",
       "      <th>CONTACTFIRSTNAME</th>\n",
       "      <th>DEALSIZE</th>\n",
       "    </tr>\n",
       "  </thead>\n",
       "  <tbody>\n",
       "    <tr>\n",
       "      <th>680</th>\n",
       "      <td>10100</td>\n",
       "      <td>50</td>\n",
       "      <td>67.80</td>\n",
       "      <td>2</td>\n",
       "      <td>3390.00</td>\n",
       "      <td>1/6/2003 0:00</td>\n",
       "      <td>Shipped</td>\n",
       "      <td>1</td>\n",
       "      <td>1</td>\n",
       "      <td>2003</td>\n",
       "      <td>...</td>\n",
       "      <td>2304 Long Airport Avenue</td>\n",
       "      <td>NaN</td>\n",
       "      <td>Nashua</td>\n",
       "      <td>NH</td>\n",
       "      <td>62005</td>\n",
       "      <td>USA</td>\n",
       "      <td>NaN</td>\n",
       "      <td>Young</td>\n",
       "      <td>Valarie</td>\n",
       "      <td>Medium</td>\n",
       "    </tr>\n",
       "    <tr>\n",
       "      <th>681</th>\n",
       "      <td>10110</td>\n",
       "      <td>32</td>\n",
       "      <td>50.25</td>\n",
       "      <td>6</td>\n",
       "      <td>1608.00</td>\n",
       "      <td>3/18/2003 0:00</td>\n",
       "      <td>Shipped</td>\n",
       "      <td>1</td>\n",
       "      <td>3</td>\n",
       "      <td>2003</td>\n",
       "      <td>...</td>\n",
       "      <td>Fauntleroy Circus</td>\n",
       "      <td>NaN</td>\n",
       "      <td>Manchester</td>\n",
       "      <td>NaN</td>\n",
       "      <td>EC2 5NT</td>\n",
       "      <td>UK</td>\n",
       "      <td>EMEA</td>\n",
       "      <td>Ashworth</td>\n",
       "      <td>Victoria</td>\n",
       "      <td>Small</td>\n",
       "    </tr>\n",
       "    <tr>\n",
       "      <th>682</th>\n",
       "      <td>10124</td>\n",
       "      <td>42</td>\n",
       "      <td>53.88</td>\n",
       "      <td>5</td>\n",
       "      <td>2262.96</td>\n",
       "      <td>5/21/2003 0:00</td>\n",
       "      <td>Shipped</td>\n",
       "      <td>2</td>\n",
       "      <td>5</td>\n",
       "      <td>2003</td>\n",
       "      <td>...</td>\n",
       "      <td>8489 Strong St.</td>\n",
       "      <td>NaN</td>\n",
       "      <td>Las Vegas</td>\n",
       "      <td>NV</td>\n",
       "      <td>83030</td>\n",
       "      <td>USA</td>\n",
       "      <td>NaN</td>\n",
       "      <td>King</td>\n",
       "      <td>Sue</td>\n",
       "      <td>Small</td>\n",
       "    </tr>\n",
       "    <tr>\n",
       "      <th>683</th>\n",
       "      <td>10149</td>\n",
       "      <td>24</td>\n",
       "      <td>62.36</td>\n",
       "      <td>10</td>\n",
       "      <td>1496.64</td>\n",
       "      <td>9/12/2003 0:00</td>\n",
       "      <td>Shipped</td>\n",
       "      <td>3</td>\n",
       "      <td>9</td>\n",
       "      <td>2003</td>\n",
       "      <td>...</td>\n",
       "      <td>2793 Furth Circle</td>\n",
       "      <td>NaN</td>\n",
       "      <td>Brisbane</td>\n",
       "      <td>CA</td>\n",
       "      <td>94217</td>\n",
       "      <td>USA</td>\n",
       "      <td>NaN</td>\n",
       "      <td>Taylor</td>\n",
       "      <td>Sue</td>\n",
       "      <td>Small</td>\n",
       "    </tr>\n",
       "    <tr>\n",
       "      <th>684</th>\n",
       "      <td>10162</td>\n",
       "      <td>27</td>\n",
       "      <td>69.62</td>\n",
       "      <td>8</td>\n",
       "      <td>1879.74</td>\n",
       "      <td>10/18/2003 0:00</td>\n",
       "      <td>Shipped</td>\n",
       "      <td>4</td>\n",
       "      <td>10</td>\n",
       "      <td>2003</td>\n",
       "      <td>...</td>\n",
       "      <td>7734 Strong St.</td>\n",
       "      <td>NaN</td>\n",
       "      <td>San Francisco</td>\n",
       "      <td>CA</td>\n",
       "      <td>NaN</td>\n",
       "      <td>USA</td>\n",
       "      <td>NaN</td>\n",
       "      <td>Brown</td>\n",
       "      <td>Julie</td>\n",
       "      <td>Small</td>\n",
       "    </tr>\n",
       "  </tbody>\n",
       "</table>\n",
       "<p>5 rows × 25 columns</p>\n",
       "</div>"
      ],
      "text/plain": [
       "     ORDERNUMBER  QUANTITYORDERED  PRICEEACH  ORDERLINENUMBER    SALES  \\\n",
       "680        10100               50      67.80                2  3390.00   \n",
       "681        10110               32      50.25                6  1608.00   \n",
       "682        10124               42      53.88                5  2262.96   \n",
       "683        10149               24      62.36               10  1496.64   \n",
       "684        10162               27      69.62                8  1879.74   \n",
       "\n",
       "           ORDERDATE   STATUS  QTR_ID  MONTH_ID  YEAR_ID   ...     \\\n",
       "680    1/6/2003 0:00  Shipped       1         1     2003   ...      \n",
       "681   3/18/2003 0:00  Shipped       1         3     2003   ...      \n",
       "682   5/21/2003 0:00  Shipped       2         5     2003   ...      \n",
       "683   9/12/2003 0:00  Shipped       3         9     2003   ...      \n",
       "684  10/18/2003 0:00  Shipped       4        10     2003   ...      \n",
       "\n",
       "                 ADDRESSLINE1  ADDRESSLINE2           CITY STATE POSTALCODE  \\\n",
       "680  2304 Long Airport Avenue           NaN         Nashua    NH      62005   \n",
       "681         Fauntleroy Circus           NaN     Manchester   NaN    EC2 5NT   \n",
       "682           8489 Strong St.           NaN      Las Vegas    NV      83030   \n",
       "683         2793 Furth Circle           NaN       Brisbane    CA      94217   \n",
       "684           7734 Strong St.           NaN  San Francisco    CA        NaN   \n",
       "\n",
       "    COUNTRY TERRITORY CONTACTLASTNAME CONTACTFIRSTNAME DEALSIZE  \n",
       "680     USA       NaN           Young          Valarie   Medium  \n",
       "681      UK      EMEA        Ashworth         Victoria    Small  \n",
       "682     USA       NaN            King              Sue    Small  \n",
       "683     USA       NaN          Taylor              Sue    Small  \n",
       "684     USA       NaN           Brown            Julie    Small  \n",
       "\n",
       "[5 rows x 25 columns]"
      ]
     },
     "execution_count": 44,
     "metadata": {},
     "output_type": "execute_result"
    }
   ],
   "source": [
    "df[df.PRODUCTCODE==\"S18_2248\"].head(5)\n",
    "# in this case, brackets are used to filter rows.  That's potentially confusing to readers, \n",
    "# but this is such a simple case, they'll probably figure it out"
   ]
  },
  {
   "cell_type": "markdown",
   "metadata": {},
   "source": [
    "## When was it sold for more than MSRP\n",
    "Group by country, show averages\n",
    "Show me the top 5"
   ]
  },
  {
   "cell_type": "code",
   "execution_count": 65,
   "metadata": {},
   "outputs": [
    {
     "data": {
      "text/html": [
       "<div>\n",
       "<style scoped>\n",
       "    .dataframe tbody tr th:only-of-type {\n",
       "        vertical-align: middle;\n",
       "    }\n",
       "\n",
       "    .dataframe tbody tr th {\n",
       "        vertical-align: top;\n",
       "    }\n",
       "\n",
       "    .dataframe thead th {\n",
       "        text-align: right;\n",
       "    }\n",
       "</style>\n",
       "<table border=\"1\" class=\"dataframe\">\n",
       "  <thead>\n",
       "    <tr style=\"text-align: right;\">\n",
       "      <th></th>\n",
       "      <th>ORDERDATE</th>\n",
       "      <th>CUSTOMERNAME</th>\n",
       "      <th>PRODUCTCODE</th>\n",
       "      <th>PRICEEACH</th>\n",
       "      <th>MSRP</th>\n",
       "      <th>QUANTITYORDERED</th>\n",
       "      <th>COUNTRY</th>\n",
       "      <th>SALES</th>\n",
       "    </tr>\n",
       "  </thead>\n",
       "  <tbody>\n",
       "    <tr>\n",
       "      <th>680</th>\n",
       "      <td>1/6/2003 0:00</td>\n",
       "      <td>Online Diecast Creations Co.</td>\n",
       "      <td>S18_2248</td>\n",
       "      <td>67.80</td>\n",
       "      <td>60</td>\n",
       "      <td>50</td>\n",
       "      <td>USA</td>\n",
       "      <td>3390.00</td>\n",
       "    </tr>\n",
       "    <tr>\n",
       "      <th>683</th>\n",
       "      <td>9/12/2003 0:00</td>\n",
       "      <td>Signal Collectibles Ltd.</td>\n",
       "      <td>S18_2248</td>\n",
       "      <td>62.36</td>\n",
       "      <td>60</td>\n",
       "      <td>24</td>\n",
       "      <td>USA</td>\n",
       "      <td>1496.64</td>\n",
       "    </tr>\n",
       "    <tr>\n",
       "      <th>684</th>\n",
       "      <td>10/18/2003 0:00</td>\n",
       "      <td>Corporate Gift Ideas Co.</td>\n",
       "      <td>S18_2248</td>\n",
       "      <td>69.62</td>\n",
       "      <td>60</td>\n",
       "      <td>27</td>\n",
       "      <td>USA</td>\n",
       "      <td>1879.74</td>\n",
       "    </tr>\n",
       "    <tr>\n",
       "      <th>686</th>\n",
       "      <td>11/12/2003 0:00</td>\n",
       "      <td>Mini Gifts Distributors Ltd.</td>\n",
       "      <td>S18_2248</td>\n",
       "      <td>61.15</td>\n",
       "      <td>60</td>\n",
       "      <td>38</td>\n",
       "      <td>USA</td>\n",
       "      <td>2323.70</td>\n",
       "    </tr>\n",
       "    <tr>\n",
       "      <th>688</th>\n",
       "      <td>12/2/2003 0:00</td>\n",
       "      <td>Muscle Machine Inc</td>\n",
       "      <td>S18_2248</td>\n",
       "      <td>71.44</td>\n",
       "      <td>60</td>\n",
       "      <td>23</td>\n",
       "      <td>USA</td>\n",
       "      <td>1643.12</td>\n",
       "    </tr>\n",
       "    <tr>\n",
       "      <th>689</th>\n",
       "      <td>1/26/2004 0:00</td>\n",
       "      <td>Corrida Auto Replicas, Ltd</td>\n",
       "      <td>S18_2248</td>\n",
       "      <td>62.96</td>\n",
       "      <td>60</td>\n",
       "      <td>21</td>\n",
       "      <td>Spain</td>\n",
       "      <td>1322.16</td>\n",
       "    </tr>\n",
       "    <tr>\n",
       "      <th>691</th>\n",
       "      <td>4/13/2004 0:00</td>\n",
       "      <td>Mini Caravy</td>\n",
       "      <td>S18_2248</td>\n",
       "      <td>72.65</td>\n",
       "      <td>60</td>\n",
       "      <td>33</td>\n",
       "      <td>France</td>\n",
       "      <td>2397.45</td>\n",
       "    </tr>\n",
       "    <tr>\n",
       "      <th>692</th>\n",
       "      <td>8/17/2004 0:00</td>\n",
       "      <td>Amica Models &amp; Co.</td>\n",
       "      <td>S18_2248</td>\n",
       "      <td>62.96</td>\n",
       "      <td>60</td>\n",
       "      <td>25</td>\n",
       "      <td>Italy</td>\n",
       "      <td>1574.00</td>\n",
       "    </tr>\n",
       "    <tr>\n",
       "      <th>693</th>\n",
       "      <td>9/1/2004 0:00</td>\n",
       "      <td>Handji Gifts&amp; Co</td>\n",
       "      <td>S18_2248</td>\n",
       "      <td>61.75</td>\n",
       "      <td>60</td>\n",
       "      <td>28</td>\n",
       "      <td>Singapore</td>\n",
       "      <td>1729.00</td>\n",
       "    </tr>\n",
       "    <tr>\n",
       "      <th>695</th>\n",
       "      <td>10/21/2004 0:00</td>\n",
       "      <td>Mini Gifts Distributors Ltd.</td>\n",
       "      <td>S18_2248</td>\n",
       "      <td>61.15</td>\n",
       "      <td>60</td>\n",
       "      <td>30</td>\n",
       "      <td>USA</td>\n",
       "      <td>1834.50</td>\n",
       "    </tr>\n",
       "    <tr>\n",
       "      <th>696</th>\n",
       "      <td>11/17/2004 0:00</td>\n",
       "      <td>AV Stores, Co.</td>\n",
       "      <td>S18_2248</td>\n",
       "      <td>84.25</td>\n",
       "      <td>60</td>\n",
       "      <td>38</td>\n",
       "      <td>UK</td>\n",
       "      <td>3201.50</td>\n",
       "    </tr>\n",
       "    <tr>\n",
       "      <th>698</th>\n",
       "      <td>1/12/2005 0:00</td>\n",
       "      <td>Toys4GrownUps.com</td>\n",
       "      <td>S18_2248</td>\n",
       "      <td>100.00</td>\n",
       "      <td>60</td>\n",
       "      <td>45</td>\n",
       "      <td>USA</td>\n",
       "      <td>8884.80</td>\n",
       "    </tr>\n",
       "    <tr>\n",
       "      <th>700</th>\n",
       "      <td>4/22/2005 0:00</td>\n",
       "      <td>The Sharp Gifts Warehouse</td>\n",
       "      <td>S18_2248</td>\n",
       "      <td>72.65</td>\n",
       "      <td>60</td>\n",
       "      <td>42</td>\n",
       "      <td>USA</td>\n",
       "      <td>3051.30</td>\n",
       "    </tr>\n",
       "    <tr>\n",
       "      <th>701</th>\n",
       "      <td>5/29/2005 0:00</td>\n",
       "      <td>Souveniers And Things Co.</td>\n",
       "      <td>S18_2248</td>\n",
       "      <td>63.57</td>\n",
       "      <td>60</td>\n",
       "      <td>36</td>\n",
       "      <td>Australia</td>\n",
       "      <td>2288.52</td>\n",
       "    </tr>\n",
       "  </tbody>\n",
       "</table>\n",
       "</div>"
      ],
      "text/plain": [
       "           ORDERDATE                  CUSTOMERNAME PRODUCTCODE  PRICEEACH  \\\n",
       "680    1/6/2003 0:00  Online Diecast Creations Co.    S18_2248      67.80   \n",
       "683   9/12/2003 0:00      Signal Collectibles Ltd.    S18_2248      62.36   \n",
       "684  10/18/2003 0:00      Corporate Gift Ideas Co.    S18_2248      69.62   \n",
       "686  11/12/2003 0:00  Mini Gifts Distributors Ltd.    S18_2248      61.15   \n",
       "688   12/2/2003 0:00            Muscle Machine Inc    S18_2248      71.44   \n",
       "689   1/26/2004 0:00    Corrida Auto Replicas, Ltd    S18_2248      62.96   \n",
       "691   4/13/2004 0:00                   Mini Caravy    S18_2248      72.65   \n",
       "692   8/17/2004 0:00            Amica Models & Co.    S18_2248      62.96   \n",
       "693    9/1/2004 0:00              Handji Gifts& Co    S18_2248      61.75   \n",
       "695  10/21/2004 0:00  Mini Gifts Distributors Ltd.    S18_2248      61.15   \n",
       "696  11/17/2004 0:00                AV Stores, Co.    S18_2248      84.25   \n",
       "698   1/12/2005 0:00             Toys4GrownUps.com    S18_2248     100.00   \n",
       "700   4/22/2005 0:00     The Sharp Gifts Warehouse    S18_2248      72.65   \n",
       "701   5/29/2005 0:00     Souveniers And Things Co.    S18_2248      63.57   \n",
       "\n",
       "     MSRP  QUANTITYORDERED    COUNTRY    SALES  \n",
       "680    60               50        USA  3390.00  \n",
       "683    60               24        USA  1496.64  \n",
       "684    60               27        USA  1879.74  \n",
       "686    60               38        USA  2323.70  \n",
       "688    60               23        USA  1643.12  \n",
       "689    60               21      Spain  1322.16  \n",
       "691    60               33     France  2397.45  \n",
       "692    60               25      Italy  1574.00  \n",
       "693    60               28  Singapore  1729.00  \n",
       "695    60               30        USA  1834.50  \n",
       "696    60               38         UK  3201.50  \n",
       "698    60               45        USA  8884.80  \n",
       "700    60               42        USA  3051.30  \n",
       "701    60               36  Australia  2288.52  "
      ]
     },
     "execution_count": 65,
     "metadata": {},
     "output_type": "execute_result"
    }
   ],
   "source": [
    "# to filter by rows AND select certain columns, we need to use YET ANOTHER SYNTAX that is not obvious\n",
    "# I will spread chaining steps across different lines to help with readability.\n",
    "(\n",
    "    df\n",
    "    .loc[(df.PRODUCTCODE==\"S18_2248\") & (df.PRICEEACH>df.MSRP),\n",
    "         [\"ORDERDATE\",\"CUSTOMERNAME\",\"PRODUCTCODE\",\"PRICEEACH\",\"MSRP\",\"QUANTITYORDERED\",\"COUNTRY\",\"SALES\"]]\n",
    "    #.groupby(\"COUNTRY\")\n",
    "    #.aggregate({\"SALES\":\"mean\",\"PRICEEACH\":\"max\"})  # seriously, I need to embed JSON??\n",
    "    #.sort_values(by=\"SALES\",ascending=False)\n",
    "    #.head(5)\n",
    ")    \n",
    "# Why do I need to know about internal details of data frame to do simple queries?\n",
    "# Why do I specify so many things as strings?\n",
    "# Whatever, I think I got it now."
   ]
  },
  {
   "cell_type": "markdown",
   "metadata": {},
   "source": [
    "# Calculate Wholesale Price and Markup\n",
    "* Wholesale is 30% of MSRP.\n",
    "* Markup = PRICEACH - WHOLESALE"
   ]
  },
  {
   "cell_type": "code",
   "execution_count": 46,
   "metadata": {},
   "outputs": [
    {
     "data": {
      "text/html": [
       "<div>\n",
       "<style scoped>\n",
       "    .dataframe tbody tr th:only-of-type {\n",
       "        vertical-align: middle;\n",
       "    }\n",
       "\n",
       "    .dataframe tbody tr th {\n",
       "        vertical-align: top;\n",
       "    }\n",
       "\n",
       "    .dataframe thead th {\n",
       "        text-align: right;\n",
       "    }\n",
       "</style>\n",
       "<table border=\"1\" class=\"dataframe\">\n",
       "  <thead>\n",
       "    <tr style=\"text-align: right;\">\n",
       "      <th></th>\n",
       "      <th>MARKUP</th>\n",
       "      <th>WHOLESALE</th>\n",
       "    </tr>\n",
       "    <tr>\n",
       "      <th>COUNTRY</th>\n",
       "      <th></th>\n",
       "      <th></th>\n",
       "    </tr>\n",
       "  </thead>\n",
       "  <tbody>\n",
       "    <tr>\n",
       "      <th>USA</th>\n",
       "      <td>50.894444</td>\n",
       "      <td>18.0</td>\n",
       "    </tr>\n",
       "    <tr>\n",
       "      <th>UK</th>\n",
       "      <td>49.250000</td>\n",
       "      <td>18.0</td>\n",
       "    </tr>\n",
       "    <tr>\n",
       "      <th>Singapore</th>\n",
       "      <td>43.750000</td>\n",
       "      <td>18.0</td>\n",
       "    </tr>\n",
       "    <tr>\n",
       "      <th>Australia</th>\n",
       "      <td>43.450000</td>\n",
       "      <td>18.0</td>\n",
       "    </tr>\n",
       "    <tr>\n",
       "      <th>Italy</th>\n",
       "      <td>42.235000</td>\n",
       "      <td>18.0</td>\n",
       "    </tr>\n",
       "  </tbody>\n",
       "</table>\n",
       "</div>"
      ],
      "text/plain": [
       "              MARKUP  WHOLESALE\n",
       "COUNTRY                        \n",
       "USA        50.894444       18.0\n",
       "UK         49.250000       18.0\n",
       "Singapore  43.750000       18.0\n",
       "Australia  43.450000       18.0\n",
       "Italy      42.235000       18.0"
      ]
     },
     "execution_count": 46,
     "metadata": {},
     "output_type": "execute_result"
    }
   ],
   "source": [
    "# Calculated a new field, but I can't use that new field with .loc method.  Argh!!\n",
    "# so I need to use YET ANOTHER method, 'query' that takes a string... really?\n",
    "# and why isn't there a cleaner way to do a column selection?\n",
    "(\n",
    "    df[[\"ORDERDATE\",\"PRODUCTCODE\",\"PRICEEACH\",\"MSRP\",\"QUANTITYORDERED\",\"COUNTRY\",\"SALES\"]]\n",
    "    .assign(MARKUP=df.PRICEEACH-(df.MSRP*0.30),\n",
    "            WHOLESALE=df.MSRP*0.30) # Had to repeat definition of calculation. Argh!\n",
    "    .query(\"(PRODUCTCODE=='S18_2248') & (MARKUP>0)\") # a query string?  REALLY!?  A string embedded in a string\n",
    "    .groupby(\"COUNTRY\")\n",
    "    .aggregate({\"MARKUP\":\"mean\",\"WHOLESALE\":\"mean\"}) # seriously, I need to embed JSON??\n",
    "    .sort_values(by=\"MARKUP\",ascending=False)\n",
    "    .head(5)\n",
    ")   \n",
    "# WOW, lots of magic strings. I was told in 1992 that was a bad practice!!"
   ]
  },
  {
   "cell_type": "markdown",
   "metadata": {},
   "source": [
    "# Easier Syntax\n",
    "* Easier for those who use R, F# or SQL\n",
    "* Easier for non-technical people to follow\n",
    "* Easier to iteratively refactor as you are asking questions"
   ]
  },
  {
   "cell_type": "code",
   "execution_count": 47,
   "metadata": {},
   "outputs": [],
   "source": [
    "from dfply import *"
   ]
  },
  {
   "cell_type": "code",
   "execution_count": 48,
   "metadata": {},
   "outputs": [
    {
     "data": {
      "text/html": [
       "<div>\n",
       "<style scoped>\n",
       "    .dataframe tbody tr th:only-of-type {\n",
       "        vertical-align: middle;\n",
       "    }\n",
       "\n",
       "    .dataframe tbody tr th {\n",
       "        vertical-align: top;\n",
       "    }\n",
       "\n",
       "    .dataframe thead th {\n",
       "        text-align: right;\n",
       "    }\n",
       "</style>\n",
       "<table border=\"1\" class=\"dataframe\">\n",
       "  <thead>\n",
       "    <tr style=\"text-align: right;\">\n",
       "      <th></th>\n",
       "      <th>COUNTRY</th>\n",
       "      <th>MARKUP_mean</th>\n",
       "      <th>WHOLESALE_mean</th>\n",
       "    </tr>\n",
       "  </thead>\n",
       "  <tbody>\n",
       "    <tr>\n",
       "      <th>6</th>\n",
       "      <td>USA</td>\n",
       "      <td>50.894444</td>\n",
       "      <td>18.0</td>\n",
       "    </tr>\n",
       "    <tr>\n",
       "      <th>5</th>\n",
       "      <td>UK</td>\n",
       "      <td>49.250000</td>\n",
       "      <td>18.0</td>\n",
       "    </tr>\n",
       "    <tr>\n",
       "      <th>3</th>\n",
       "      <td>Singapore</td>\n",
       "      <td>43.750000</td>\n",
       "      <td>18.0</td>\n",
       "    </tr>\n",
       "    <tr>\n",
       "      <th>0</th>\n",
       "      <td>Australia</td>\n",
       "      <td>43.450000</td>\n",
       "      <td>18.0</td>\n",
       "    </tr>\n",
       "    <tr>\n",
       "      <th>2</th>\n",
       "      <td>Italy</td>\n",
       "      <td>42.235000</td>\n",
       "      <td>18.0</td>\n",
       "    </tr>\n",
       "  </tbody>\n",
       "</table>\n",
       "</div>"
      ],
      "text/plain": [
       "     COUNTRY  MARKUP_mean  WHOLESALE_mean\n",
       "6        USA    50.894444            18.0\n",
       "5         UK    49.250000            18.0\n",
       "3  Singapore    43.750000            18.0\n",
       "0  Australia    43.450000            18.0\n",
       "2      Italy    42.235000            18.0"
      ]
     },
     "execution_count": 48,
     "metadata": {},
     "output_type": "execute_result"
    }
   ],
   "source": [
    "# Ahhh. I feel like I can breathe again.\n",
    "# each line is more readable and follows a standard\n",
    "# these functions are just about all you need to know\n",
    "# my only string is the product code, which is reasonable in this use case\n",
    "(\n",
    "    df \n",
    "    >> mutate(WHOLESALE=X.MSRP*0.30)\n",
    "    >> mutate(MARKUP=X.PRICEEACH-X.WHOLESALE)\n",
    "    >> filter_by((X.PRODUCTCODE==\"S18_2248\") & (X.MARKUP>0)) \n",
    "    >> select(X.ORDERDATE,X.PRODUCTCODE,X.PRICEEACH,X.MSRP,X.QUANTITYORDERED,X.COUNTRY,X.SALES,X.MARKUP,X.WHOLESALE) \n",
    "    >> group_by(X.COUNTRY)\n",
    "    >> summarise(MARKUP_mean=X.MARKUP.mean(),WHOLESALE_mean=X.WHOLESALE.mean())\n",
    "    >> ungroup()\n",
    "    >> arrange(X.MARKUP_mean,ascending=False)\n",
    "    >> head(5)\n",
    ")"
   ]
  },
  {
   "cell_type": "code",
   "execution_count": 49,
   "metadata": {},
   "outputs": [
    {
     "data": {
      "text/html": [
       "<div>\n",
       "<style scoped>\n",
       "    .dataframe tbody tr th:only-of-type {\n",
       "        vertical-align: middle;\n",
       "    }\n",
       "\n",
       "    .dataframe tbody tr th {\n",
       "        vertical-align: top;\n",
       "    }\n",
       "\n",
       "    .dataframe thead th {\n",
       "        text-align: right;\n",
       "    }\n",
       "</style>\n",
       "<table border=\"1\" class=\"dataframe\">\n",
       "  <thead>\n",
       "    <tr style=\"text-align: right;\">\n",
       "      <th></th>\n",
       "      <th>ORDERDATE</th>\n",
       "      <th>PRODUCTCODE</th>\n",
       "      <th>PRICEEACH</th>\n",
       "      <th>MSRP</th>\n",
       "      <th>SALES</th>\n",
       "      <th>PRODUCTLINE</th>\n",
       "    </tr>\n",
       "  </thead>\n",
       "  <tbody>\n",
       "    <tr>\n",
       "      <th>680</th>\n",
       "      <td>1/6/2003 0:00</td>\n",
       "      <td>S18_2248</td>\n",
       "      <td>67.80</td>\n",
       "      <td>60</td>\n",
       "      <td>3390.00</td>\n",
       "      <td>Vintage Cars</td>\n",
       "    </tr>\n",
       "    <tr>\n",
       "      <th>681</th>\n",
       "      <td>3/18/2003 0:00</td>\n",
       "      <td>S18_2248</td>\n",
       "      <td>50.25</td>\n",
       "      <td>60</td>\n",
       "      <td>1608.00</td>\n",
       "      <td>Vintage Cars</td>\n",
       "    </tr>\n",
       "    <tr>\n",
       "      <th>682</th>\n",
       "      <td>5/21/2003 0:00</td>\n",
       "      <td>S18_2248</td>\n",
       "      <td>53.88</td>\n",
       "      <td>60</td>\n",
       "      <td>2262.96</td>\n",
       "      <td>Vintage Cars</td>\n",
       "    </tr>\n",
       "    <tr>\n",
       "      <th>683</th>\n",
       "      <td>9/12/2003 0:00</td>\n",
       "      <td>S18_2248</td>\n",
       "      <td>62.36</td>\n",
       "      <td>60</td>\n",
       "      <td>1496.64</td>\n",
       "      <td>Vintage Cars</td>\n",
       "    </tr>\n",
       "    <tr>\n",
       "      <th>684</th>\n",
       "      <td>10/18/2003 0:00</td>\n",
       "      <td>S18_2248</td>\n",
       "      <td>69.62</td>\n",
       "      <td>60</td>\n",
       "      <td>1879.74</td>\n",
       "      <td>Vintage Cars</td>\n",
       "    </tr>\n",
       "  </tbody>\n",
       "</table>\n",
       "</div>"
      ],
      "text/plain": [
       "           ORDERDATE PRODUCTCODE  PRICEEACH  MSRP    SALES   PRODUCTLINE\n",
       "680    1/6/2003 0:00    S18_2248      67.80    60  3390.00  Vintage Cars\n",
       "681   3/18/2003 0:00    S18_2248      50.25    60  1608.00  Vintage Cars\n",
       "682   5/21/2003 0:00    S18_2248      53.88    60  2262.96  Vintage Cars\n",
       "683   9/12/2003 0:00    S18_2248      62.36    60  1496.64  Vintage Cars\n",
       "684  10/18/2003 0:00    S18_2248      69.62    60  1879.74  Vintage Cars"
      ]
     },
     "execution_count": 49,
     "metadata": {},
     "output_type": "execute_result"
    }
   ],
   "source": [
    "(\n",
    "    df \n",
    "    >> filter_by(X.PRODUCTCODE==\"S18_2248\") \n",
    "    >> select(X.ORDERDATE,X.PRODUCTCODE,X.PRICEEACH,X.MSRP,X.SALES,X.PRODUCTLINE) \n",
    "    >> head(5)\n",
    ") "
   ]
  },
  {
   "cell_type": "code",
   "execution_count": 50,
   "metadata": {},
   "outputs": [
    {
     "data": {
      "text/html": [
       "<div>\n",
       "<style scoped>\n",
       "    .dataframe tbody tr th:only-of-type {\n",
       "        vertical-align: middle;\n",
       "    }\n",
       "\n",
       "    .dataframe tbody tr th {\n",
       "        vertical-align: top;\n",
       "    }\n",
       "\n",
       "    .dataframe thead th {\n",
       "        text-align: right;\n",
       "    }\n",
       "</style>\n",
       "<table border=\"1\" class=\"dataframe\">\n",
       "  <thead>\n",
       "    <tr style=\"text-align: right;\">\n",
       "      <th></th>\n",
       "      <th>ORDERDATE</th>\n",
       "      <th>PRODUCTCODE</th>\n",
       "      <th>PRICEEACH</th>\n",
       "      <th>MSRP</th>\n",
       "      <th>SALES</th>\n",
       "      <th>PRODUCTLINE</th>\n",
       "    </tr>\n",
       "  </thead>\n",
       "  <tbody>\n",
       "    <tr>\n",
       "      <th>475</th>\n",
       "      <td>1/10/2003 0:00</td>\n",
       "      <td>S18_1342</td>\n",
       "      <td>100.00</td>\n",
       "      <td>102</td>\n",
       "      <td>4808.31</td>\n",
       "      <td>Vintage Cars</td>\n",
       "    </tr>\n",
       "    <tr>\n",
       "      <th>476</th>\n",
       "      <td>3/25/2003 0:00</td>\n",
       "      <td>S18_1342</td>\n",
       "      <td>99.66</td>\n",
       "      <td>102</td>\n",
       "      <td>3288.78</td>\n",
       "      <td>Vintage Cars</td>\n",
       "    </tr>\n",
       "    <tr>\n",
       "      <th>477</th>\n",
       "      <td>5/21/2003 0:00</td>\n",
       "      <td>S18_1342</td>\n",
       "      <td>100.00</td>\n",
       "      <td>102</td>\n",
       "      <td>3254.72</td>\n",
       "      <td>Vintage Cars</td>\n",
       "    </tr>\n",
       "    <tr>\n",
       "      <th>478</th>\n",
       "      <td>7/16/2003 0:00</td>\n",
       "      <td>S18_1342</td>\n",
       "      <td>100.00</td>\n",
       "      <td>102</td>\n",
       "      <td>3184.94</td>\n",
       "      <td>Vintage Cars</td>\n",
       "    </tr>\n",
       "    <tr>\n",
       "      <th>479</th>\n",
       "      <td>9/12/2003 0:00</td>\n",
       "      <td>S18_1342</td>\n",
       "      <td>100.00</td>\n",
       "      <td>102</td>\n",
       "      <td>5907.50</td>\n",
       "      <td>Vintage Cars</td>\n",
       "    </tr>\n",
       "    <tr>\n",
       "      <th>480</th>\n",
       "      <td>10/18/2003 0:00</td>\n",
       "      <td>S18_1342</td>\n",
       "      <td>91.44</td>\n",
       "      <td>102</td>\n",
       "      <td>4389.12</td>\n",
       "      <td>Vintage Cars</td>\n",
       "    </tr>\n",
       "    <tr>\n",
       "      <th>481</th>\n",
       "      <td>11/5/2003 0:00</td>\n",
       "      <td>S18_1342</td>\n",
       "      <td>100.00</td>\n",
       "      <td>102</td>\n",
       "      <td>5036.16</td>\n",
       "      <td>Vintage Cars</td>\n",
       "    </tr>\n",
       "    <tr>\n",
       "      <th>482</th>\n",
       "      <td>11/12/2003 0:00</td>\n",
       "      <td>S18_1342</td>\n",
       "      <td>87.33</td>\n",
       "      <td>102</td>\n",
       "      <td>2183.25</td>\n",
       "      <td>Vintage Cars</td>\n",
       "    </tr>\n",
       "    <tr>\n",
       "      <th>483</th>\n",
       "      <td>11/21/2003 0:00</td>\n",
       "      <td>S18_1342</td>\n",
       "      <td>100.00</td>\n",
       "      <td>102</td>\n",
       "      <td>3106.88</td>\n",
       "      <td>Vintage Cars</td>\n",
       "    </tr>\n",
       "    <tr>\n",
       "      <th>484</th>\n",
       "      <td>12/3/2003 0:00</td>\n",
       "      <td>S18_1342</td>\n",
       "      <td>100.00</td>\n",
       "      <td>102</td>\n",
       "      <td>3735.72</td>\n",
       "      <td>Vintage Cars</td>\n",
       "    </tr>\n",
       "  </tbody>\n",
       "</table>\n",
       "</div>"
      ],
      "text/plain": [
       "           ORDERDATE PRODUCTCODE  PRICEEACH  MSRP    SALES   PRODUCTLINE\n",
       "475   1/10/2003 0:00    S18_1342     100.00   102  4808.31  Vintage Cars\n",
       "476   3/25/2003 0:00    S18_1342      99.66   102  3288.78  Vintage Cars\n",
       "477   5/21/2003 0:00    S18_1342     100.00   102  3254.72  Vintage Cars\n",
       "478   7/16/2003 0:00    S18_1342     100.00   102  3184.94  Vintage Cars\n",
       "479   9/12/2003 0:00    S18_1342     100.00   102  5907.50  Vintage Cars\n",
       "480  10/18/2003 0:00    S18_1342      91.44   102  4389.12  Vintage Cars\n",
       "481   11/5/2003 0:00    S18_1342     100.00   102  5036.16  Vintage Cars\n",
       "482  11/12/2003 0:00    S18_1342      87.33   102  2183.25  Vintage Cars\n",
       "483  11/21/2003 0:00    S18_1342     100.00   102  3106.88  Vintage Cars\n",
       "484   12/3/2003 0:00    S18_1342     100.00   102  3735.72  Vintage Cars"
      ]
     },
     "execution_count": 50,
     "metadata": {},
     "output_type": "execute_result"
    }
   ],
   "source": [
    "vintagecars = (\n",
    "    df \n",
    "    >> filter_by(X.PRODUCTLINE == \"Vintage Cars\")\n",
    "    >> select(X.ORDERDATE,X.PRODUCTCODE,X.PRICEEACH,X.MSRP,X.SALES,X.PRODUCTLINE) \n",
    ") \n",
    "vintagecars >> head(10)"
   ]
  },
  {
   "cell_type": "markdown",
   "metadata": {},
   "source": [
    "# Charting\n",
    "Yep, semicolons matter again."
   ]
  },
  {
   "cell_type": "code",
   "execution_count": 51,
   "metadata": {
    "scrolled": false
   },
   "outputs": [
    {
     "data": {
      "image/png": "[encoded data removed]",
      "text/plain": [
       "<Figure size 432x288 with 4 Axes>"
      ]
     },
     "metadata": {
      "needs_background": "light"
     },
     "output_type": "display_data"
    }
   ],
   "source": [
    "vintagecars.hist();"
   ]
  },
  {
   "cell_type": "markdown",
   "metadata": {},
   "source": [
    "# Show me sales by product line"
   ]
  },
  {
   "cell_type": "code",
   "execution_count": 52,
   "metadata": {},
   "outputs": [
    {
     "data": {
      "image/png": "[encoded data removed]",
      "text/plain": [
       "<Figure size 432x288 with 2 Axes>"
      ]
     },
     "metadata": {
      "needs_background": "light"
     },
     "output_type": "display_data"
    }
   ],
   "source": [
    "(\n",
    "    df\n",
    "    >> group_by(X.PRODUCTLINE)\n",
    "    >> summarise(TotalSales=X.SALES.sum(),NumOrders=X.ORDERNUMBER.nunique())\n",
    "    >> ungroup()\n",
    ").plot.bar(x=\"PRODUCTLINE\",subplots=True);"
   ]
  },
  {
   "cell_type": "code",
   "execution_count": 53,
   "metadata": {},
   "outputs": [
    {
     "data": {
      "image/png": "[encoded data removed]",
      "text/plain": [
       "<Figure size 1080x360 with 1 Axes>"
      ]
     },
     "metadata": {
      "needs_background": "light"
     },
     "output_type": "display_data"
    }
   ],
   "source": [
    "# boxplot by product line\n",
    "(\n",
    "    df\n",
    "    >> select(X.PRODUCTLINE,X.SALES)\n",
    ").boxplot(by=\"PRODUCTLINE\",figsize=(15,5),rot=90);"
   ]
  },
  {
   "cell_type": "markdown",
   "metadata": {},
   "source": [
    "## Show me sales by year"
   ]
  },
  {
   "cell_type": "code",
   "execution_count": 54,
   "metadata": {},
   "outputs": [
    {
     "data": {
      "image/png": "[encoded data removed]",
      "text/plain": [
       "<Figure size 432x288 with 1 Axes>"
      ]
     },
     "metadata": {
      "needs_background": "light"
     },
     "output_type": "display_data"
    }
   ],
   "source": [
    "(\n",
    "    df\n",
    "    >> group_by(X.YEAR_ID)\n",
    "    >> summarise(TotalSales=X.SALES.sum())\n",
    "    >> ungroup()\n",
    ").plot.bar(x=\"YEAR_ID\");"
   ]
  },
  {
   "cell_type": "code",
   "execution_count": 55,
   "metadata": {},
   "outputs": [
    {
     "data": {
      "image/png": "[encoded data removed]",
      "text/plain": [
       "<Figure size 1080x360 with 1 Axes>"
      ]
     },
     "metadata": {
      "needs_background": "light"
     },
     "output_type": "display_data"
    }
   ],
   "source": [
    "# boxplot by year\n",
    "(\n",
    "    df\n",
    "    >> select(X.YEAR_ID,X.SALES)\n",
    ").boxplot(by=\"YEAR_ID\",figsize=(15,5),rot=90);"
   ]
  },
  {
   "cell_type": "markdown",
   "metadata": {},
   "source": [
    "## Show me top customers"
   ]
  },
  {
   "cell_type": "code",
   "execution_count": 56,
   "metadata": {},
   "outputs": [
    {
     "data": {
      "text/html": [
       "<div>\n",
       "<style scoped>\n",
       "    .dataframe tbody tr th:only-of-type {\n",
       "        vertical-align: middle;\n",
       "    }\n",
       "\n",
       "    .dataframe tbody tr th {\n",
       "        vertical-align: top;\n",
       "    }\n",
       "\n",
       "    .dataframe thead th {\n",
       "        text-align: right;\n",
       "    }\n",
       "</style>\n",
       "<table border=\"1\" class=\"dataframe\">\n",
       "  <thead>\n",
       "    <tr style=\"text-align: right;\">\n",
       "      <th></th>\n",
       "      <th>CUSTOMERNAME</th>\n",
       "      <th>TotalSales</th>\n",
       "      <th>NumOrders</th>\n",
       "    </tr>\n",
       "  </thead>\n",
       "  <tbody>\n",
       "    <tr>\n",
       "      <th>33</th>\n",
       "      <td>Euro Shopping Channel</td>\n",
       "      <td>912294.11</td>\n",
       "      <td>26</td>\n",
       "    </tr>\n",
       "    <tr>\n",
       "      <th>55</th>\n",
       "      <td>Mini Gifts Distributors Ltd.</td>\n",
       "      <td>654858.06</td>\n",
       "      <td>17</td>\n",
       "    </tr>\n",
       "    <tr>\n",
       "      <th>6</th>\n",
       "      <td>Australian Collectors, Co.</td>\n",
       "      <td>200995.41</td>\n",
       "      <td>5</td>\n",
       "    </tr>\n",
       "    <tr>\n",
       "      <th>58</th>\n",
       "      <td>Muscle Machine Inc</td>\n",
       "      <td>197736.94</td>\n",
       "      <td>4</td>\n",
       "    </tr>\n",
       "    <tr>\n",
       "      <th>44</th>\n",
       "      <td>La Rochelle Gifts</td>\n",
       "      <td>180124.90</td>\n",
       "      <td>4</td>\n",
       "    </tr>\n",
       "  </tbody>\n",
       "</table>\n",
       "</div>"
      ],
      "text/plain": [
       "                    CUSTOMERNAME  TotalSales  NumOrders\n",
       "33         Euro Shopping Channel   912294.11         26\n",
       "55  Mini Gifts Distributors Ltd.   654858.06         17\n",
       "6     Australian Collectors, Co.   200995.41          5\n",
       "58            Muscle Machine Inc   197736.94          4\n",
       "44             La Rochelle Gifts   180124.90          4"
      ]
     },
     "execution_count": 56,
     "metadata": {},
     "output_type": "execute_result"
    }
   ],
   "source": [
    "(\n",
    "    df\n",
    "    >> group_by(X.CUSTOMERNAME)\n",
    "    >> summarise(TotalSales=X.SALES.sum(),NumOrders=X.ORDERNUMBER.nunique())\n",
    "    >> ungroup()\n",
    "    >> arrange(X.TotalSales,ascending=False)\n",
    "    >> head(5)\n",
    ")"
   ]
  },
  {
   "cell_type": "markdown",
   "metadata": {},
   "source": [
    "# Analyze Profit Margins"
   ]
  },
  {
   "cell_type": "code",
   "execution_count": 57,
   "metadata": {},
   "outputs": [],
   "source": [
    "profitanalysis = (\n",
    "    df \n",
    "    >> mutate(WHOLESALE=X.MSRP*0.30)\n",
    "    >> mutate(MARKUP=X.PRICEEACH-X.WHOLESALE)\n",
    "    >> mutate(PROFITMARGIN=X.MARKUP/X.MSRP)\n",
    "    >> select(X.CUSTOMERNAME,X.COUNTRY,X.PRODUCTLINE,X.YEAR_ID,X.PROFITMARGIN)\n",
    ")"
   ]
  },
  {
   "cell_type": "markdown",
   "metadata": {},
   "source": [
    "## Profit Margin by Product Line"
   ]
  },
  {
   "cell_type": "code",
   "execution_count": 58,
   "metadata": {},
   "outputs": [
    {
     "data": {
      "text/html": [
       "<div>\n",
       "<style scoped>\n",
       "    .dataframe tbody tr th:only-of-type {\n",
       "        vertical-align: middle;\n",
       "    }\n",
       "\n",
       "    .dataframe tbody tr th {\n",
       "        vertical-align: top;\n",
       "    }\n",
       "\n",
       "    .dataframe thead th {\n",
       "        text-align: right;\n",
       "    }\n",
       "</style>\n",
       "<table border=\"1\" class=\"dataframe\">\n",
       "  <thead>\n",
       "    <tr style=\"text-align: right;\">\n",
       "      <th></th>\n",
       "      <th>PRODUCTLINE</th>\n",
       "      <th>PROFITMARGIN_mean</th>\n",
       "      <th>PROFITMARGIN_sd</th>\n",
       "    </tr>\n",
       "  </thead>\n",
       "  <tbody>\n",
       "    <tr>\n",
       "      <th>4</th>\n",
       "      <td>Trains</td>\n",
       "      <td>0.754132</td>\n",
       "      <td>0.241083</td>\n",
       "    </tr>\n",
       "    <tr>\n",
       "      <th>3</th>\n",
       "      <td>Ships</td>\n",
       "      <td>0.695647</td>\n",
       "      <td>0.188567</td>\n",
       "    </tr>\n",
       "    <tr>\n",
       "      <th>6</th>\n",
       "      <td>Vintage Cars</td>\n",
       "      <td>0.675900</td>\n",
       "      <td>0.310596</td>\n",
       "    </tr>\n",
       "    <tr>\n",
       "      <th>2</th>\n",
       "      <td>Planes</td>\n",
       "      <td>0.662686</td>\n",
       "      <td>0.201326</td>\n",
       "    </tr>\n",
       "    <tr>\n",
       "      <th>1</th>\n",
       "      <td>Motorcycles</td>\n",
       "      <td>0.623887</td>\n",
       "      <td>0.251433</td>\n",
       "    </tr>\n",
       "    <tr>\n",
       "      <th>5</th>\n",
       "      <td>Trucks and Buses</td>\n",
       "      <td>0.588751</td>\n",
       "      <td>0.196945</td>\n",
       "    </tr>\n",
       "    <tr>\n",
       "      <th>0</th>\n",
       "      <td>Classic Cars</td>\n",
       "      <td>0.506613</td>\n",
       "      <td>0.274095</td>\n",
       "    </tr>\n",
       "  </tbody>\n",
       "</table>\n",
       "</div>"
      ],
      "text/plain": [
       "        PRODUCTLINE  PROFITMARGIN_mean  PROFITMARGIN_sd\n",
       "4            Trains           0.754132         0.241083\n",
       "3             Ships           0.695647         0.188567\n",
       "6      Vintage Cars           0.675900         0.310596\n",
       "2            Planes           0.662686         0.201326\n",
       "1       Motorcycles           0.623887         0.251433\n",
       "5  Trucks and Buses           0.588751         0.196945\n",
       "0      Classic Cars           0.506613         0.274095"
      ]
     },
     "execution_count": 58,
     "metadata": {},
     "output_type": "execute_result"
    }
   ],
   "source": [
    "(\n",
    "    profitanalysis \n",
    "    >> group_by(X.PRODUCTLINE)\n",
    "    >> summarize(PROFITMARGIN_mean=X.PROFITMARGIN.mean(),\n",
    "                 PROFITMARGIN_sd=X.PROFITMARGIN.std())\n",
    "    >> ungroup()\n",
    "    >> arrange(X.PROFITMARGIN_mean,ascending=False)\n",
    ")"
   ]
  },
  {
   "cell_type": "code",
   "execution_count": 59,
   "metadata": {},
   "outputs": [
    {
     "data": {
      "image/png": "[encoded data removed]",
      "text/plain": [
       "<Figure size 1080x360 with 1 Axes>"
      ]
     },
     "metadata": {
      "needs_background": "light"
     },
     "output_type": "display_data"
    }
   ],
   "source": [
    "(\n",
    "    profitanalysis\n",
    "    >> select(X.PRODUCTLINE,X.PROFITMARGIN)\n",
    ").boxplot(by=\"PRODUCTLINE\",figsize=(15,5),rot=90);"
   ]
  },
  {
   "cell_type": "markdown",
   "metadata": {},
   "source": [
    "## Profit Margin over Time"
   ]
  },
  {
   "cell_type": "code",
   "execution_count": 60,
   "metadata": {},
   "outputs": [
    {
     "data": {
      "image/png": "[encoded data removed]",
      "text/plain": [
       "<Figure size 432x288 with 1 Axes>"
      ]
     },
     "metadata": {
      "needs_background": "light"
     },
     "output_type": "display_data"
    }
   ],
   "source": [
    "(\n",
    "    profitanalysis \n",
    "    >> group_by(X.YEAR_ID)\n",
    "    >> summarize(PROFITMARGIN_mean=X.PROFITMARGIN.mean())\n",
    "    >> ungroup()\n",
    ").plot.bar(x=\"YEAR_ID\",legend=False);"
   ]
  },
  {
   "cell_type": "markdown",
   "metadata": {},
   "source": [
    "# Sharing and Collaboration\n",
    "* Export and email it out to everybody (several formats available)\n",
    "* GitHub\n",
    "* JupyterHub\n",
    "* Azure Notebooks"
   ]
  },
  {
   "cell_type": "markdown",
   "metadata": {},
   "source": [
    "# Also Consider\n",
    "* JupiterLab - web-based IDE for notebooks - part of Anaconda\n",
    "* Azure Notebooks - free, cloud hosted Jupyter Notebook\n",
    "* R Notebooks in R Studio - in someways a better developer experience"
   ]
  },
  {
   "cell_type": "markdown",
   "metadata": {},
   "source": [
    "# Learn More\n",
    "* Download from anaconda.com\n",
    "* Visit jupyter.org for documentation\n",
    "* stackoverflow.com \n",
    "* Stephen's talk will explore extensibility (scripts and web apps)\n"
   ]
  },
  {
   "cell_type": "code",
   "execution_count": null,
   "metadata": {},
   "outputs": [],
   "source": []
  }
 ],
 "metadata": {
  "celltoolbar": "Slideshow",
  "kernelspec": {
   "display_name": "Python 3",
   "language": "python",
   "name": "python3"
  },
  "language_info": {
   "codemirror_mode": {
    "name": "ipython",
    "version": 3
   },
   "file_extension": ".py",
   "mimetype": "text/x-python",
   "name": "python",
   "nbconvert_exporter": "python",
   "pygments_lexer": "ipython3",
   "version": "3.7.1"
  }
 },
 "nbformat": 4,
 "nbformat_minor": 2
}
